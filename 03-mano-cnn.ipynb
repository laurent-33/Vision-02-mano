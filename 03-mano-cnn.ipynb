{
 "cells": [
  {
   "cell_type": "markdown",
   "metadata": {},
   "source": [
    "# Récupération des données"
   ]
  },
  {
   "cell_type": "code",
   "execution_count": 1407,
   "metadata": {},
   "outputs": [],
   "source": [
    "import pandas\n",
    "import matplotlib\n",
    "import matplotlib.pyplot as plt\n",
    "import numpy\n",
    "from sklearn.model_selection import train_test_split\n",
    "from sklearn import metrics\n",
    "\n",
    "import keras\n",
    "from keras.models import Sequential\n",
    "from keras.layers import Input, Dense, Dropout, Flatten, Activation, MaxPooling2D, GlobalMaxPooling2D\n",
    "from keras.layers import Conv2D, MaxPooling2D\n",
    "from keras.callbacks import EarlyStopping\n",
    "from tensorflow.keras.optimizers import SGD, Adam, Adamax\n",
    "\n",
    "%matplotlib inline\n",
    "pandas.set_option('display.width', 100)\n",
    "pandas.set_option('precision', 3)"
   ]
  },
  {
   "cell_type": "code",
   "execution_count": 624,
   "metadata": {},
   "outputs": [],
   "source": [
    "Y_train = numpy.load('Y_train.npy')"
   ]
  },
  {
   "cell_type": "code",
   "execution_count": 625,
   "metadata": {},
   "outputs": [],
   "source": [
    "X_train = numpy.load('X_train.npy')"
   ]
  },
  {
   "cell_type": "markdown",
   "metadata": {},
   "source": [
    "## Train / Val Split"
   ]
  },
  {
   "cell_type": "code",
   "execution_count": 626,
   "metadata": {},
   "outputs": [],
   "source": [
    "X_train, x_val, Y_train, y_val = train_test_split(X_train, Y_train, test_size=0.2, random_state=15)"
   ]
  },
  {
   "cell_type": "code",
   "execution_count": 627,
   "metadata": {},
   "outputs": [
    {
     "name": "stdout",
     "output_type": "stream",
     "text": [
      "(1649, 64, 64)\n",
      "(1649, 10)\n",
      "(413, 64, 64)\n",
      "(413, 10)\n"
     ]
    }
   ],
   "source": [
    "print(X_train.shape)\n",
    "print(Y_train.shape)\n",
    "print(x_val.shape)\n",
    "print(y_val.shape)"
   ]
  },
  {
   "cell_type": "markdown",
   "metadata": {},
   "source": [
    "## Remise en forme des données"
   ]
  },
  {
   "cell_type": "code",
   "execution_count": 628,
   "metadata": {},
   "outputs": [
    {
     "name": "stdout",
     "output_type": "stream",
     "text": [
      "(1649, 64, 64)\n",
      "(1649, 10)\n"
     ]
    }
   ],
   "source": [
    "print(X_train.shape)\n",
    "print(Y_train.shape)"
   ]
  },
  {
   "cell_type": "code",
   "execution_count": 629,
   "metadata": {},
   "outputs": [
    {
     "data": {
      "text/plain": [
       "(1649, 4096)"
      ]
     },
     "execution_count": 629,
     "metadata": {},
     "output_type": "execute_result"
    }
   ],
   "source": [
    "X_train_flat = X_train.reshape(X_train.shape[0], X_train.shape[1]*X_train.shape[2])\n",
    "x_val_flat = x_val.reshape(x_val.shape[0], x_val.shape[1]*x_val.shape[2])\n",
    "X_train_flat.shape"
   ]
  },
  {
   "cell_type": "code",
   "execution_count": 630,
   "metadata": {
    "scrolled": true
   },
   "outputs": [
    {
     "data": {
      "text/plain": [
       "array([[0., 0., 0., 0., 0., 1., 0., 0., 0., 0.],\n",
       "       [0., 0., 0., 0., 0., 0., 0., 1., 0., 0.],\n",
       "       [0., 0., 0., 0., 0., 1., 0., 0., 0., 0.],\n",
       "       [1., 0., 0., 0., 0., 0., 0., 0., 0., 0.],\n",
       "       [1., 0., 0., 0., 0., 0., 0., 0., 0., 0.]])"
      ]
     },
     "execution_count": 630,
     "metadata": {},
     "output_type": "execute_result"
    }
   ],
   "source": [
    "Y_train[:5]"
   ]
  },
  {
   "cell_type": "markdown",
   "metadata": {},
   "source": [
    "# Modèle NN"
   ]
  },
  {
   "cell_type": "code",
   "execution_count": 631,
   "metadata": {},
   "outputs": [
    {
     "name": "stdout",
     "output_type": "stream",
     "text": [
      "input nmuber =  4096\n",
      "output_number =  10\n"
     ]
    }
   ],
   "source": [
    "input_number = X_train_flat.shape[1]\n",
    "output_number = 10\n",
    "print('input nmuber = ', input_number)\n",
    "print('output_number = ', output_number)"
   ]
  },
  {
   "cell_type": "code",
   "execution_count": 632,
   "metadata": {},
   "outputs": [],
   "source": [
    "model = Sequential()\n",
    "model.add(Dense(input_number, activation='relu'))\n",
    "model.add(Dense(output_number, activation='softmax'))"
   ]
  },
  {
   "cell_type": "code",
   "execution_count": 633,
   "metadata": {},
   "outputs": [
    {
     "name": "stdout",
     "output_type": "stream",
     "text": [
      "Epoch 1/20\n",
      "1649/1649 [==============================] - 1s 388us/step - loss: 0.0923 - accuracy: 0.0976\n",
      "Epoch 2/20\n",
      "1649/1649 [==============================] - 1s 359us/step - loss: 0.0911 - accuracy: 0.0873\n",
      "Epoch 3/20\n",
      "1649/1649 [==============================] - 1s 332us/step - loss: 0.0907 - accuracy: 0.0891\n",
      "Epoch 4/20\n",
      "1649/1649 [==============================] - 1s 340us/step - loss: 0.0904 - accuracy: 0.0885\n",
      "Epoch 5/20\n",
      "1649/1649 [==============================] - 1s 338us/step - loss: 0.0902 - accuracy: 0.0867\n",
      "Epoch 6/20\n",
      "1649/1649 [==============================] - 1s 339us/step - loss: 0.0901 - accuracy: 0.0885\n",
      "Epoch 7/20\n",
      "1649/1649 [==============================] - 1s 339us/step - loss: 0.0900 - accuracy: 0.0982\n",
      "Epoch 8/20\n",
      "1649/1649 [==============================] - 1s 336us/step - loss: 0.0899 - accuracy: 0.1140\n",
      "Epoch 9/20\n",
      "1649/1649 [==============================] - 1s 346us/step - loss: 0.0898 - accuracy: 0.1207\n",
      "Epoch 10/20\n",
      "1649/1649 [==============================] - 1s 343us/step - loss: 0.0898 - accuracy: 0.1292\n",
      "Epoch 11/20\n",
      "1649/1649 [==============================] - 1s 336us/step - loss: 0.0898 - accuracy: 0.1364\n",
      "Epoch 12/20\n",
      "1649/1649 [==============================] - 1s 339us/step - loss: 0.0897 - accuracy: 0.1377\n",
      "Epoch 13/20\n",
      "1649/1649 [==============================] - 1s 343us/step - loss: 0.0897 - accuracy: 0.1492\n",
      "Epoch 14/20\n",
      "1649/1649 [==============================] - 1s 341us/step - loss: 0.0896 - accuracy: 0.1492\n",
      "Epoch 15/20\n",
      "1649/1649 [==============================] - 1s 334us/step - loss: 0.0896 - accuracy: 0.1546\n",
      "Epoch 16/20\n",
      "1649/1649 [==============================] - 1s 340us/step - loss: 0.0896 - accuracy: 0.1595\n",
      "Epoch 17/20\n",
      "1649/1649 [==============================] - 1s 333us/step - loss: 0.0895 - accuracy: 0.1637\n",
      "Epoch 18/20\n",
      "1649/1649 [==============================] - 1s 338us/step - loss: 0.0895 - accuracy: 0.1674\n",
      "Epoch 19/20\n",
      "1649/1649 [==============================] - 1s 337us/step - loss: 0.0895 - accuracy: 0.1686\n",
      "Epoch 20/20\n",
      "1649/1649 [==============================] - 1s 342us/step - loss: 0.0894 - accuracy: 0.1704\n"
     ]
    }
   ],
   "source": [
    "loss = 'mse'\n",
    "\n",
    "LEARNING_RATE = 0.05\n",
    "model.compile(loss=loss, optimizer=SGD(lr=LEARNING_RATE),\n",
    "              metrics=['accuracy'])\n",
    "\n",
    "EPOCHS = 20 # how many iterations over the whole dataset\n",
    "history = model.fit(X_train_flat, Y_train, epochs=EPOCHS, batch_size=input_number)"
   ]
  },
  {
   "cell_type": "code",
   "execution_count": 634,
   "metadata": {
    "scrolled": true
   },
   "outputs": [
    {
     "name": "stdout",
     "output_type": "stream",
     "text": [
      "Model: \"sequential_80\"\n",
      "_________________________________________________________________\n",
      "Layer (type)                 Output Shape              Param #   \n",
      "=================================================================\n",
      "dense_102 (Dense)            (None, 4096)              16781312  \n",
      "_________________________________________________________________\n",
      "dense_103 (Dense)            (None, 10)                40970     \n",
      "=================================================================\n",
      "Total params: 16,822,282\n",
      "Trainable params: 16,822,282\n",
      "Non-trainable params: 0\n",
      "_________________________________________________________________\n"
     ]
    }
   ],
   "source": [
    "model.summary()"
   ]
  },
  {
   "cell_type": "code",
   "execution_count": 635,
   "metadata": {},
   "outputs": [
    {
     "data": {
      "text/plain": [
       "Text(0.5, 0, 'epoch')"
      ]
     },
     "execution_count": 635,
     "metadata": {},
     "output_type": "execute_result"
    },
    {
     "data": {
      "image/png": "[encoded data removed]",
      "text/plain": [
       "<Figure size 576x360 with 1 Axes>"
      ]
     },
     "metadata": {
      "needs_background": "light"
     },
     "output_type": "display_data"
    }
   ],
   "source": [
    "import pandas as pd\n",
    "%matplotlib inline\n",
    "pd.DataFrame(history.history).plot(figsize=(8, 5))\n",
    "plt.grid(True)\n",
    "plt.title('Model performance throughout training')\n",
    "plt.ylabel('Loss')\n",
    "plt.xlabel('epoch')\n",
    "#plt.ylim(bottom = history.history['loss'][-1], top = history.history['loss'][5]);"
   ]
  },
  {
   "cell_type": "code",
   "execution_count": 636,
   "metadata": {
    "scrolled": true
   },
   "outputs": [
    {
     "data": {
      "text/plain": [
       "[0.0894293470835859, 0.17917676270008087]"
      ]
     },
     "execution_count": 636,
     "metadata": {},
     "output_type": "execute_result"
    }
   ],
   "source": [
    "score = model.evaluate(x_val_flat, y_val, verbose=0)\n",
    "score"
   ]
  },
  {
   "cell_type": "code",
   "execution_count": 637,
   "metadata": {},
   "outputs": [],
   "source": [
    "y_predict = model.predict(x_val_flat)"
   ]
  },
  {
   "cell_type": "code",
   "execution_count": 638,
   "metadata": {
    "scrolled": true
   },
   "outputs": [
    {
     "data": {
      "text/plain": [
       "array([0.09797926, 0.08654831, 0.11042213, 0.09068429, 0.09595544,\n",
       "       0.10238077, 0.09064502, 0.10089137, 0.10615899, 0.11833448],\n",
       "      dtype=float32)"
      ]
     },
     "execution_count": 638,
     "metadata": {},
     "output_type": "execute_result"
    }
   ],
   "source": [
    "y_predict[0]"
   ]
  },
  {
   "cell_type": "code",
   "execution_count": 639,
   "metadata": {},
   "outputs": [
    {
     "data": {
      "text/html": [
       "<div>\n",
       "<style scoped>\n",
       "    .dataframe tbody tr th:only-of-type {\n",
       "        vertical-align: middle;\n",
       "    }\n",
       "\n",
       "    .dataframe tbody tr th {\n",
       "        vertical-align: top;\n",
       "    }\n",
       "\n",
       "    .dataframe thead th {\n",
       "        text-align: right;\n",
       "    }\n",
       "</style>\n",
       "<table border=\"1\" class=\"dataframe\">\n",
       "  <thead>\n",
       "    <tr style=\"text-align: right;\">\n",
       "      <th></th>\n",
       "      <th>0</th>\n",
       "      <th>1</th>\n",
       "      <th>2</th>\n",
       "      <th>3</th>\n",
       "      <th>4</th>\n",
       "      <th>5</th>\n",
       "      <th>6</th>\n",
       "      <th>7</th>\n",
       "      <th>8</th>\n",
       "      <th>9</th>\n",
       "    </tr>\n",
       "  </thead>\n",
       "  <tbody>\n",
       "    <tr>\n",
       "      <th>0</th>\n",
       "      <td>0.098</td>\n",
       "      <td>0.087</td>\n",
       "      <td>0.110</td>\n",
       "      <td>0.091</td>\n",
       "      <td>0.096</td>\n",
       "      <td>0.102</td>\n",
       "      <td>0.091</td>\n",
       "      <td>0.101</td>\n",
       "      <td>0.106</td>\n",
       "      <td>0.118</td>\n",
       "    </tr>\n",
       "    <tr>\n",
       "      <th>1</th>\n",
       "      <td>0.116</td>\n",
       "      <td>0.105</td>\n",
       "      <td>0.111</td>\n",
       "      <td>0.095</td>\n",
       "      <td>0.100</td>\n",
       "      <td>0.091</td>\n",
       "      <td>0.089</td>\n",
       "      <td>0.099</td>\n",
       "      <td>0.089</td>\n",
       "      <td>0.106</td>\n",
       "    </tr>\n",
       "    <tr>\n",
       "      <th>2</th>\n",
       "      <td>0.118</td>\n",
       "      <td>0.085</td>\n",
       "      <td>0.088</td>\n",
       "      <td>0.085</td>\n",
       "      <td>0.143</td>\n",
       "      <td>0.102</td>\n",
       "      <td>0.090</td>\n",
       "      <td>0.102</td>\n",
       "      <td>0.089</td>\n",
       "      <td>0.096</td>\n",
       "    </tr>\n",
       "    <tr>\n",
       "      <th>3</th>\n",
       "      <td>0.088</td>\n",
       "      <td>0.103</td>\n",
       "      <td>0.110</td>\n",
       "      <td>0.092</td>\n",
       "      <td>0.089</td>\n",
       "      <td>0.103</td>\n",
       "      <td>0.111</td>\n",
       "      <td>0.105</td>\n",
       "      <td>0.100</td>\n",
       "      <td>0.101</td>\n",
       "    </tr>\n",
       "    <tr>\n",
       "      <th>4</th>\n",
       "      <td>0.108</td>\n",
       "      <td>0.094</td>\n",
       "      <td>0.111</td>\n",
       "      <td>0.085</td>\n",
       "      <td>0.119</td>\n",
       "      <td>0.083</td>\n",
       "      <td>0.130</td>\n",
       "      <td>0.090</td>\n",
       "      <td>0.093</td>\n",
       "      <td>0.089</td>\n",
       "    </tr>\n",
       "  </tbody>\n",
       "</table>\n",
       "</div>"
      ],
      "text/plain": [
       "       0      1      2      3      4      5      6      7      8      9\n",
       "0  0.098  0.087  0.110  0.091  0.096  0.102  0.091  0.101  0.106  0.118\n",
       "1  0.116  0.105  0.111  0.095  0.100  0.091  0.089  0.099  0.089  0.106\n",
       "2  0.118  0.085  0.088  0.085  0.143  0.102  0.090  0.102  0.089  0.096\n",
       "3  0.088  0.103  0.110  0.092  0.089  0.103  0.111  0.105  0.100  0.101\n",
       "4  0.108  0.094  0.111  0.085  0.119  0.083  0.130  0.090  0.093  0.089"
      ]
     },
     "execution_count": 639,
     "metadata": {},
     "output_type": "execute_result"
    }
   ],
   "source": [
    "y_predict = pandas.DataFrame(y_predict)\n",
    "y_predict.columns = ['0','1','2','3','4','5','6','7','8','9']\n",
    "y_predict.head()"
   ]
  },
  {
   "cell_type": "code",
   "execution_count": 640,
   "metadata": {},
   "outputs": [
    {
     "data": {
      "text/html": [
       "<div>\n",
       "<style scoped>\n",
       "    .dataframe tbody tr th:only-of-type {\n",
       "        vertical-align: middle;\n",
       "    }\n",
       "\n",
       "    .dataframe tbody tr th {\n",
       "        vertical-align: top;\n",
       "    }\n",
       "\n",
       "    .dataframe thead th {\n",
       "        text-align: right;\n",
       "    }\n",
       "</style>\n",
       "<table border=\"1\" class=\"dataframe\">\n",
       "  <thead>\n",
       "    <tr style=\"text-align: right;\">\n",
       "      <th></th>\n",
       "      <th>0</th>\n",
       "      <th>1</th>\n",
       "      <th>2</th>\n",
       "      <th>3</th>\n",
       "      <th>4</th>\n",
       "      <th>5</th>\n",
       "      <th>6</th>\n",
       "      <th>7</th>\n",
       "      <th>8</th>\n",
       "      <th>9</th>\n",
       "    </tr>\n",
       "  </thead>\n",
       "  <tbody>\n",
       "    <tr>\n",
       "      <th>0</th>\n",
       "      <td>0.0</td>\n",
       "      <td>0.0</td>\n",
       "      <td>0.0</td>\n",
       "      <td>0.0</td>\n",
       "      <td>0.0</td>\n",
       "      <td>0.0</td>\n",
       "      <td>0.0</td>\n",
       "      <td>0.0</td>\n",
       "      <td>0.0</td>\n",
       "      <td>1.0</td>\n",
       "    </tr>\n",
       "    <tr>\n",
       "      <th>1</th>\n",
       "      <td>1.0</td>\n",
       "      <td>0.0</td>\n",
       "      <td>0.0</td>\n",
       "      <td>0.0</td>\n",
       "      <td>0.0</td>\n",
       "      <td>0.0</td>\n",
       "      <td>0.0</td>\n",
       "      <td>0.0</td>\n",
       "      <td>0.0</td>\n",
       "      <td>0.0</td>\n",
       "    </tr>\n",
       "    <tr>\n",
       "      <th>2</th>\n",
       "      <td>0.0</td>\n",
       "      <td>0.0</td>\n",
       "      <td>0.0</td>\n",
       "      <td>0.0</td>\n",
       "      <td>1.0</td>\n",
       "      <td>0.0</td>\n",
       "      <td>0.0</td>\n",
       "      <td>0.0</td>\n",
       "      <td>0.0</td>\n",
       "      <td>0.0</td>\n",
       "    </tr>\n",
       "    <tr>\n",
       "      <th>3</th>\n",
       "      <td>0.0</td>\n",
       "      <td>0.0</td>\n",
       "      <td>0.0</td>\n",
       "      <td>0.0</td>\n",
       "      <td>0.0</td>\n",
       "      <td>0.0</td>\n",
       "      <td>1.0</td>\n",
       "      <td>0.0</td>\n",
       "      <td>0.0</td>\n",
       "      <td>0.0</td>\n",
       "    </tr>\n",
       "    <tr>\n",
       "      <th>4</th>\n",
       "      <td>0.0</td>\n",
       "      <td>0.0</td>\n",
       "      <td>0.0</td>\n",
       "      <td>0.0</td>\n",
       "      <td>0.0</td>\n",
       "      <td>0.0</td>\n",
       "      <td>1.0</td>\n",
       "      <td>0.0</td>\n",
       "      <td>0.0</td>\n",
       "      <td>0.0</td>\n",
       "    </tr>\n",
       "  </tbody>\n",
       "</table>\n",
       "</div>"
      ],
      "text/plain": [
       "     0    1    2    3    4    5    6    7    8    9\n",
       "0  0.0  0.0  0.0  0.0  0.0  0.0  0.0  0.0  0.0  1.0\n",
       "1  1.0  0.0  0.0  0.0  0.0  0.0  0.0  0.0  0.0  0.0\n",
       "2  0.0  0.0  0.0  0.0  1.0  0.0  0.0  0.0  0.0  0.0\n",
       "3  0.0  0.0  0.0  0.0  0.0  0.0  1.0  0.0  0.0  0.0\n",
       "4  0.0  0.0  0.0  0.0  0.0  0.0  1.0  0.0  0.0  0.0"
      ]
     },
     "execution_count": 640,
     "metadata": {},
     "output_type": "execute_result"
    }
   ],
   "source": [
    "for i in range(0, 10):\n",
    "    y_predict.loc[y_predict[str(i)] == y_predict.agg(func=max, axis=1), str(i)] = 1\n",
    "    y_predict.loc[y_predict[str(i)] < 1, str(i)] = 0\n",
    "\n",
    "y_predict.head()"
   ]
  },
  {
   "cell_type": "code",
   "execution_count": 641,
   "metadata": {
    "scrolled": true
   },
   "outputs": [
    {
     "data": {
      "text/html": [
       "<div>\n",
       "<style scoped>\n",
       "    .dataframe tbody tr th:only-of-type {\n",
       "        vertical-align: middle;\n",
       "    }\n",
       "\n",
       "    .dataframe tbody tr th {\n",
       "        vertical-align: top;\n",
       "    }\n",
       "\n",
       "    .dataframe thead th {\n",
       "        text-align: right;\n",
       "    }\n",
       "</style>\n",
       "<table border=\"1\" class=\"dataframe\">\n",
       "  <thead>\n",
       "    <tr style=\"text-align: right;\">\n",
       "      <th></th>\n",
       "      <th>0</th>\n",
       "      <th>1</th>\n",
       "      <th>2</th>\n",
       "      <th>3</th>\n",
       "      <th>4</th>\n",
       "      <th>5</th>\n",
       "      <th>6</th>\n",
       "      <th>7</th>\n",
       "      <th>8</th>\n",
       "      <th>9</th>\n",
       "    </tr>\n",
       "  </thead>\n",
       "  <tbody>\n",
       "    <tr>\n",
       "      <th>0</th>\n",
       "      <td>0.0</td>\n",
       "      <td>0.0</td>\n",
       "      <td>0.0</td>\n",
       "      <td>1.0</td>\n",
       "      <td>0.0</td>\n",
       "      <td>0.0</td>\n",
       "      <td>0.0</td>\n",
       "      <td>0.0</td>\n",
       "      <td>0.0</td>\n",
       "      <td>0.0</td>\n",
       "    </tr>\n",
       "    <tr>\n",
       "      <th>1</th>\n",
       "      <td>0.0</td>\n",
       "      <td>0.0</td>\n",
       "      <td>0.0</td>\n",
       "      <td>0.0</td>\n",
       "      <td>0.0</td>\n",
       "      <td>1.0</td>\n",
       "      <td>0.0</td>\n",
       "      <td>0.0</td>\n",
       "      <td>0.0</td>\n",
       "      <td>0.0</td>\n",
       "    </tr>\n",
       "    <tr>\n",
       "      <th>2</th>\n",
       "      <td>0.0</td>\n",
       "      <td>0.0</td>\n",
       "      <td>0.0</td>\n",
       "      <td>0.0</td>\n",
       "      <td>0.0</td>\n",
       "      <td>0.0</td>\n",
       "      <td>0.0</td>\n",
       "      <td>0.0</td>\n",
       "      <td>1.0</td>\n",
       "      <td>0.0</td>\n",
       "    </tr>\n",
       "    <tr>\n",
       "      <th>3</th>\n",
       "      <td>0.0</td>\n",
       "      <td>0.0</td>\n",
       "      <td>0.0</td>\n",
       "      <td>0.0</td>\n",
       "      <td>1.0</td>\n",
       "      <td>0.0</td>\n",
       "      <td>0.0</td>\n",
       "      <td>0.0</td>\n",
       "      <td>0.0</td>\n",
       "      <td>0.0</td>\n",
       "    </tr>\n",
       "    <tr>\n",
       "      <th>4</th>\n",
       "      <td>0.0</td>\n",
       "      <td>0.0</td>\n",
       "      <td>0.0</td>\n",
       "      <td>0.0</td>\n",
       "      <td>0.0</td>\n",
       "      <td>0.0</td>\n",
       "      <td>0.0</td>\n",
       "      <td>0.0</td>\n",
       "      <td>0.0</td>\n",
       "      <td>1.0</td>\n",
       "    </tr>\n",
       "  </tbody>\n",
       "</table>\n",
       "</div>"
      ],
      "text/plain": [
       "     0    1    2    3    4    5    6    7    8    9\n",
       "0  0.0  0.0  0.0  1.0  0.0  0.0  0.0  0.0  0.0  0.0\n",
       "1  0.0  0.0  0.0  0.0  0.0  1.0  0.0  0.0  0.0  0.0\n",
       "2  0.0  0.0  0.0  0.0  0.0  0.0  0.0  0.0  1.0  0.0\n",
       "3  0.0  0.0  0.0  0.0  1.0  0.0  0.0  0.0  0.0  0.0\n",
       "4  0.0  0.0  0.0  0.0  0.0  0.0  0.0  0.0  0.0  1.0"
      ]
     },
     "execution_count": 641,
     "metadata": {},
     "output_type": "execute_result"
    }
   ],
   "source": [
    "y_val_mod = pandas.DataFrame(y_val)\n",
    "y_val_mod.columns = ['0','1','2','3','4','5','6','7','8','9']\n",
    "y_val_mod.head()"
   ]
  },
  {
   "cell_type": "code",
   "execution_count": 642,
   "metadata": {},
   "outputs": [],
   "source": [
    "y_val_mod = numpy.array(y_val)\n",
    "y_predict = numpy.array(y_predict)"
   ]
  },
  {
   "cell_type": "code",
   "execution_count": 643,
   "metadata": {},
   "outputs": [],
   "source": [
    "def Y_transform(Y_train):\n",
    "    Y_output = []\n",
    "    for line in range(len(Y_train)):\n",
    "        for col in range(10):\n",
    "            value = str(int(Y_train[line][col]))\n",
    "            if value == '1':\n",
    "                Y_output += [str(col)]\n",
    "\n",
    "    return Y_output"
   ]
  },
  {
   "cell_type": "code",
   "execution_count": 644,
   "metadata": {},
   "outputs": [],
   "source": [
    "y_val_flat = Y_transform(y_val_mod)\n",
    "y_predict_flat = Y_transform(y_predict)"
   ]
  },
  {
   "cell_type": "code",
   "execution_count": 645,
   "metadata": {},
   "outputs": [
    {
     "name": "stdout",
     "output_type": "stream",
     "text": [
      "[[ 3  3  0  3  0  3  0  1  2  5]\n",
      " [ 3 24  8  9  8 12  8  8  4  6]\n",
      " [ 5  5  4  1  0  1  5  2  1  7]\n",
      " [ 2  0  3  5  2  3  0  3  4  0]\n",
      " [ 6  6 11 13 23  7  5 20 20  5]\n",
      " [ 1  2  1  2  0  0  1  1  2  2]\n",
      " [ 8  0  9  8  5 17 12  4  6  9]\n",
      " [ 0  4  0  1  0  0  1  0  1  0]\n",
      " [ 3  1  0  3  3  0  0  4  2  2]\n",
      " [ 2  1  1  4  1  1  1  3  4  1]]\n"
     ]
    },
    {
     "data": {
      "image/png": "[encoded data removed]",
      "text/plain": [
       "<Figure size 432x288 with 1 Axes>"
      ]
     },
     "metadata": {
      "needs_background": "light"
     },
     "output_type": "display_data"
    }
   ],
   "source": [
    "conf_matrix = metrics.confusion_matrix(y_predict_flat, y_val_flat)\n",
    "print(conf_matrix)\n",
    "plt.imshow(conf_matrix, cmap='binary');"
   ]
  },
  {
   "cell_type": "markdown",
   "metadata": {},
   "source": [
    "# Modèle CNN"
   ]
  },
  {
   "cell_type": "code",
   "execution_count": 646,
   "metadata": {},
   "outputs": [
    {
     "name": "stdout",
     "output_type": "stream",
     "text": [
      "input nmuber =  (64, 64)\n",
      "output_number =  10\n"
     ]
    }
   ],
   "source": [
    "input_number = (X_train.shape[1], X_train.shape[2])\n",
    "output_number = 10\n",
    "print('input nmuber = ', input_number)\n",
    "print('output_number = ', output_number)"
   ]
  },
  {
   "cell_type": "code",
   "execution_count": 647,
   "metadata": {},
   "outputs": [
    {
     "data": {
      "text/plain": [
       "(1649, 64, 64, 1)"
      ]
     },
     "execution_count": 647,
     "metadata": {},
     "output_type": "execute_result"
    }
   ],
   "source": [
    "X_train = numpy.expand_dims(X_train, axis=X_train.ndim)\n",
    "x_val = numpy.expand_dims(x_val, axis=x_val.ndim)\n",
    "X_train.shape"
   ]
  },
  {
   "cell_type": "code",
   "execution_count": 1408,
   "metadata": {},
   "outputs": [
    {
     "name": "stdout",
     "output_type": "stream",
     "text": [
      "Train on 1649 samples, validate on 413 samples\n",
      "Epoch 1/1000\n",
      "1649/1649 [==============================] - 1s 657us/step - loss: 2.3121 - accuracy: 0.0703 - val_loss: 2.3718 - val_accuracy: 0.0920\n",
      "Epoch 2/1000\n",
      "1649/1649 [==============================] - 1s 562us/step - loss: 2.3373 - accuracy: 0.1176 - val_loss: 2.2898 - val_accuracy: 0.1646\n",
      "Epoch 3/1000\n",
      "1649/1649 [==============================] - 1s 540us/step - loss: 2.2862 - accuracy: 0.1874 - val_loss: 2.2849 - val_accuracy: 0.1574\n",
      "Epoch 4/1000\n",
      "1649/1649 [==============================] - 1s 558us/step - loss: 2.2857 - accuracy: 0.1583 - val_loss: 2.2770 - val_accuracy: 0.1961\n",
      "Epoch 5/1000\n",
      "1649/1649 [==============================] - 1s 573us/step - loss: 2.2765 - accuracy: 0.1959 - val_loss: 2.2594 - val_accuracy: 0.3390\n",
      "Epoch 6/1000\n",
      "1649/1649 [==============================] - 1s 563us/step - loss: 2.2558 - accuracy: 0.3517 - val_loss: 2.2302 - val_accuracy: 0.3002\n",
      "Epoch 7/1000\n",
      "1649/1649 [==============================] - 1s 554us/step - loss: 2.2228 - accuracy: 0.3493 - val_loss: 2.1798 - val_accuracy: 0.2712\n",
      "Epoch 8/1000\n",
      "1649/1649 [==============================] - 1s 553us/step - loss: 2.1685 - accuracy: 0.3250 - val_loss: 2.1162 - val_accuracy: 0.2736\n",
      "Epoch 9/1000\n",
      "1649/1649 [==============================] - 1s 584us/step - loss: 2.1015 - accuracy: 0.3202 - val_loss: 2.0403 - val_accuracy: 0.2881\n",
      "Epoch 10/1000\n",
      "1649/1649 [==============================] - 1s 548us/step - loss: 2.0259 - accuracy: 0.3166 - val_loss: 1.9222 - val_accuracy: 0.4528\n",
      "Epoch 11/1000\n",
      "1649/1649 [==============================] - 1s 556us/step - loss: 1.9190 - accuracy: 0.4657 - val_loss: 1.7999 - val_accuracy: 0.5690\n",
      "Epoch 12/1000\n",
      "1649/1649 [==============================] - 1s 565us/step - loss: 1.8068 - accuracy: 0.5415 - val_loss: 1.6739 - val_accuracy: 0.5521\n",
      "Epoch 13/1000\n",
      "1649/1649 [==============================] - 1s 558us/step - loss: 1.6795 - accuracy: 0.5409 - val_loss: 1.5524 - val_accuracy: 0.5811\n",
      "Epoch 14/1000\n",
      "1649/1649 [==============================] - 1s 564us/step - loss: 1.5434 - accuracy: 0.5573 - val_loss: 1.4289 - val_accuracy: 0.5448\n",
      "Epoch 15/1000\n",
      "1649/1649 [==============================] - 1s 560us/step - loss: 1.4029 - accuracy: 0.5646 - val_loss: 1.2920 - val_accuracy: 0.5908\n",
      "Epoch 16/1000\n",
      "1649/1649 [==============================] - 1s 551us/step - loss: 1.2680 - accuracy: 0.6016 - val_loss: 1.1619 - val_accuracy: 0.6199\n",
      "Epoch 17/1000\n",
      "1649/1649 [==============================] - 1s 559us/step - loss: 1.1611 - accuracy: 0.6374 - val_loss: 1.0801 - val_accuracy: 0.6344\n",
      "Epoch 18/1000\n",
      "1649/1649 [==============================] - 1s 549us/step - loss: 1.0855 - accuracy: 0.6361 - val_loss: 1.0278 - val_accuracy: 0.6513\n",
      "Epoch 19/1000\n",
      "1649/1649 [==============================] - 1s 565us/step - loss: 1.0110 - accuracy: 0.6707 - val_loss: 1.0073 - val_accuracy: 0.6586\n",
      "Epoch 20/1000\n",
      "1649/1649 [==============================] - 1s 549us/step - loss: 0.9676 - accuracy: 0.6671 - val_loss: 0.9775 - val_accuracy: 0.6828\n",
      "Epoch 21/1000\n",
      "1649/1649 [==============================] - 1s 558us/step - loss: 0.9437 - accuracy: 0.6841 - val_loss: 0.9267 - val_accuracy: 0.7070\n",
      "Epoch 22/1000\n",
      "1649/1649 [==============================] - 1s 550us/step - loss: 0.8974 - accuracy: 0.6980 - val_loss: 0.9069 - val_accuracy: 0.7046\n",
      "Epoch 23/1000\n",
      "1649/1649 [==============================] - 1s 563us/step - loss: 0.8719 - accuracy: 0.7180 - val_loss: 0.8944 - val_accuracy: 0.7070\n",
      "Epoch 24/1000\n",
      "1649/1649 [==============================] - 1s 541us/step - loss: 0.8508 - accuracy: 0.7301 - val_loss: 0.8777 - val_accuracy: 0.7046\n",
      "Epoch 25/1000\n",
      "1649/1649 [==============================] - 1s 555us/step - loss: 0.8223 - accuracy: 0.7350 - val_loss: 0.8624 - val_accuracy: 0.7167\n",
      "Epoch 26/1000\n",
      "1649/1649 [==============================] - 1s 557us/step - loss: 0.8005 - accuracy: 0.7435 - val_loss: 0.8409 - val_accuracy: 0.7240\n",
      "Epoch 27/1000\n",
      "1649/1649 [==============================] - 1s 563us/step - loss: 0.7813 - accuracy: 0.7453 - val_loss: 0.8131 - val_accuracy: 0.7215\n",
      "Epoch 28/1000\n",
      "1649/1649 [==============================] - 1s 563us/step - loss: 0.7544 - accuracy: 0.7629 - val_loss: 0.8058 - val_accuracy: 0.7409\n",
      "Epoch 29/1000\n",
      "1649/1649 [==============================] - 1s 547us/step - loss: 0.7329 - accuracy: 0.7720 - val_loss: 0.7926 - val_accuracy: 0.7385\n",
      "Epoch 30/1000\n",
      "1649/1649 [==============================] - 1s 562us/step - loss: 0.7080 - accuracy: 0.7762 - val_loss: 0.7572 - val_accuracy: 0.7458\n",
      "Epoch 31/1000\n",
      "1649/1649 [==============================] - 1s 553us/step - loss: 0.6810 - accuracy: 0.7859 - val_loss: 0.7324 - val_accuracy: 0.7433\n",
      "Epoch 32/1000\n",
      "1649/1649 [==============================] - 1s 555us/step - loss: 0.6610 - accuracy: 0.7859 - val_loss: 0.7032 - val_accuracy: 0.7530\n",
      "Epoch 33/1000\n",
      "1649/1649 [==============================] - 1s 560us/step - loss: 0.6305 - accuracy: 0.7975 - val_loss: 0.6890 - val_accuracy: 0.7845\n",
      "Epoch 34/1000\n",
      "1649/1649 [==============================] - 1s 562us/step - loss: 0.6148 - accuracy: 0.8029 - val_loss: 0.6623 - val_accuracy: 0.7869\n",
      "Epoch 35/1000\n",
      "1649/1649 [==============================] - 1s 552us/step - loss: 0.5908 - accuracy: 0.8132 - val_loss: 0.6402 - val_accuracy: 0.7821\n",
      "Epoch 36/1000\n",
      "1649/1649 [==============================] - 1s 552us/step - loss: 0.5708 - accuracy: 0.8181 - val_loss: 0.6251 - val_accuracy: 0.7942\n",
      "Epoch 37/1000\n",
      "1649/1649 [==============================] - 1s 550us/step - loss: 0.5568 - accuracy: 0.8199 - val_loss: 0.6056 - val_accuracy: 0.8015\n",
      "Epoch 38/1000\n",
      "1649/1649 [==============================] - 1s 569us/step - loss: 0.5359 - accuracy: 0.8290 - val_loss: 0.5939 - val_accuracy: 0.8136\n",
      "Epoch 39/1000\n",
      "1649/1649 [==============================] - 1s 567us/step - loss: 0.5228 - accuracy: 0.8369 - val_loss: 0.5755 - val_accuracy: 0.8257\n",
      "Epoch 40/1000\n",
      "1649/1649 [==============================] - 1s 562us/step - loss: 0.5068 - accuracy: 0.8417 - val_loss: 0.5590 - val_accuracy: 0.8305\n",
      "Epoch 41/1000\n",
      "1649/1649 [==============================] - 1s 548us/step - loss: 0.4903 - accuracy: 0.8411 - val_loss: 0.5492 - val_accuracy: 0.8329\n",
      "Epoch 42/1000\n",
      "1649/1649 [==============================] - 1s 561us/step - loss: 0.4783 - accuracy: 0.8551 - val_loss: 0.5360 - val_accuracy: 0.8281\n",
      "Epoch 43/1000\n",
      "1649/1649 [==============================] - 1s 551us/step - loss: 0.4612 - accuracy: 0.8611 - val_loss: 0.5253 - val_accuracy: 0.8402\n",
      "Epoch 44/1000\n",
      "1649/1649 [==============================] - 1s 547us/step - loss: 0.4470 - accuracy: 0.8660 - val_loss: 0.5172 - val_accuracy: 0.8450\n",
      "Epoch 45/1000\n",
      "1649/1649 [==============================] - 1s 555us/step - loss: 0.4342 - accuracy: 0.8696 - val_loss: 0.5046 - val_accuracy: 0.8354\n",
      "Epoch 46/1000\n",
      "1649/1649 [==============================] - 1s 546us/step - loss: 0.4192 - accuracy: 0.8714 - val_loss: 0.4921 - val_accuracy: 0.8402\n",
      "Epoch 47/1000\n",
      "1649/1649 [==============================] - 1s 553us/step - loss: 0.4062 - accuracy: 0.8757 - val_loss: 0.4827 - val_accuracy: 0.8475\n",
      "Epoch 48/1000\n",
      "1649/1649 [==============================] - 1s 547us/step - loss: 0.3929 - accuracy: 0.8793 - val_loss: 0.4768 - val_accuracy: 0.8547\n",
      "Epoch 49/1000\n",
      "1649/1649 [==============================] - 1s 554us/step - loss: 0.3796 - accuracy: 0.8830 - val_loss: 0.4710 - val_accuracy: 0.8547\n",
      "Epoch 50/1000\n",
      "1649/1649 [==============================] - 1s 612us/step - loss: 0.3678 - accuracy: 0.8896 - val_loss: 0.4617 - val_accuracy: 0.8644\n",
      "Epoch 51/1000\n",
      "1649/1649 [==============================] - 1s 579us/step - loss: 0.3548 - accuracy: 0.8933 - val_loss: 0.4531 - val_accuracy: 0.8717\n",
      "Epoch 52/1000\n",
      "1649/1649 [==============================] - 1s 557us/step - loss: 0.3428 - accuracy: 0.8963 - val_loss: 0.4483 - val_accuracy: 0.8741\n",
      "Epoch 53/1000\n",
      "1649/1649 [==============================] - 1s 561us/step - loss: 0.3310 - accuracy: 0.8981 - val_loss: 0.4452 - val_accuracy: 0.8717\n",
      "Epoch 54/1000\n",
      "1649/1649 [==============================] - 1s 565us/step - loss: 0.3197 - accuracy: 0.9030 - val_loss: 0.4383 - val_accuracy: 0.8717\n",
      "Epoch 55/1000\n",
      "1649/1649 [==============================] - 1s 557us/step - loss: 0.3088 - accuracy: 0.9127 - val_loss: 0.4309 - val_accuracy: 0.8765\n"
     ]
    },
    {
     "name": "stdout",
     "output_type": "stream",
     "text": [
      "Epoch 56/1000\n",
      "1649/1649 [==============================] - 1s 561us/step - loss: 0.2975 - accuracy: 0.9145 - val_loss: 0.4243 - val_accuracy: 0.8741\n",
      "Epoch 57/1000\n",
      "1649/1649 [==============================] - 1s 554us/step - loss: 0.2866 - accuracy: 0.9175 - val_loss: 0.4195 - val_accuracy: 0.8765\n",
      "Epoch 58/1000\n",
      "1649/1649 [==============================] - 1s 584us/step - loss: 0.2762 - accuracy: 0.9218 - val_loss: 0.4154 - val_accuracy: 0.8789\n",
      "Epoch 59/1000\n",
      "1649/1649 [==============================] - 1s 567us/step - loss: 0.2659 - accuracy: 0.9272 - val_loss: 0.4107 - val_accuracy: 0.8765\n",
      "Epoch 60/1000\n",
      "1649/1649 [==============================] - 1s 576us/step - loss: 0.2562 - accuracy: 0.9315 - val_loss: 0.4053 - val_accuracy: 0.8814\n",
      "Epoch 61/1000\n",
      "1649/1649 [==============================] - 1s 580us/step - loss: 0.2467 - accuracy: 0.9339 - val_loss: 0.4007 - val_accuracy: 0.8765\n",
      "Epoch 62/1000\n",
      "1649/1649 [==============================] - 1s 587us/step - loss: 0.2392 - accuracy: 0.9345 - val_loss: 0.4043 - val_accuracy: 0.8814\n",
      "Epoch 63/1000\n",
      "1649/1649 [==============================] - 1s 585us/step - loss: 0.2342 - accuracy: 0.9351 - val_loss: 0.3958 - val_accuracy: 0.8838\n",
      "Epoch 64/1000\n",
      "1649/1649 [==============================] - 1s 603us/step - loss: 0.2255 - accuracy: 0.9388 - val_loss: 0.3944 - val_accuracy: 0.8862\n",
      "Epoch 65/1000\n",
      "1649/1649 [==============================] - 1s 607us/step - loss: 0.2155 - accuracy: 0.9412 - val_loss: 0.3889 - val_accuracy: 0.8910\n",
      "Epoch 66/1000\n",
      "1649/1649 [==============================] - 1s 573us/step - loss: 0.2063 - accuracy: 0.9448 - val_loss: 0.3847 - val_accuracy: 0.8935\n",
      "Epoch 67/1000\n",
      "1649/1649 [==============================] - 1s 605us/step - loss: 0.2009 - accuracy: 0.9442 - val_loss: 0.3819 - val_accuracy: 0.8862\n",
      "Epoch 68/1000\n",
      "1649/1649 [==============================] - 1s 592us/step - loss: 0.1945 - accuracy: 0.9454 - val_loss: 0.3803 - val_accuracy: 0.8910\n",
      "Epoch 69/1000\n",
      "1649/1649 [==============================] - 1s 636us/step - loss: 0.1858 - accuracy: 0.9515 - val_loss: 0.3781 - val_accuracy: 0.8935\n",
      "Epoch 70/1000\n",
      "1649/1649 [==============================] - 1s 616us/step - loss: 0.1788 - accuracy: 0.9539 - val_loss: 0.3780 - val_accuracy: 0.8910\n",
      "Epoch 71/1000\n",
      "1649/1649 [==============================] - 1s 638us/step - loss: 0.1745 - accuracy: 0.9539 - val_loss: 0.3776 - val_accuracy: 0.8886\n",
      "Epoch 72/1000\n",
      "1649/1649 [==============================] - 1s 586us/step - loss: 0.1683 - accuracy: 0.9600 - val_loss: 0.3708 - val_accuracy: 0.8983\n",
      "Epoch 73/1000\n",
      "1649/1649 [==============================] - 1s 589us/step - loss: 0.1603 - accuracy: 0.9630 - val_loss: 0.3690 - val_accuracy: 0.8935\n",
      "Epoch 74/1000\n",
      "1649/1649 [==============================] - 1s 576us/step - loss: 0.1550 - accuracy: 0.9630 - val_loss: 0.3728 - val_accuracy: 0.8935\n",
      "Epoch 75/1000\n",
      "1649/1649 [==============================] - 1s 578us/step - loss: 0.1506 - accuracy: 0.9660 - val_loss: 0.3691 - val_accuracy: 0.8935\n",
      "Epoch 76/1000\n",
      "1649/1649 [==============================] - 1s 618us/step - loss: 0.1447 - accuracy: 0.9660 - val_loss: 0.3642 - val_accuracy: 0.8959\n",
      "Epoch 77/1000\n",
      "1649/1649 [==============================] - 1s 596us/step - loss: 0.1388 - accuracy: 0.9666 - val_loss: 0.3656 - val_accuracy: 0.8935\n",
      "Epoch 78/1000\n",
      "1649/1649 [==============================] - 1s 571us/step - loss: 0.1338 - accuracy: 0.9691 - val_loss: 0.3587 - val_accuracy: 0.8983\n",
      "Epoch 79/1000\n",
      "1649/1649 [==============================] - 1s 579us/step - loss: 0.1289 - accuracy: 0.9691 - val_loss: 0.3600 - val_accuracy: 0.8983\n",
      "Epoch 80/1000\n",
      "1649/1649 [==============================] - 1s 572us/step - loss: 0.1249 - accuracy: 0.9709 - val_loss: 0.3679 - val_accuracy: 0.8935\n",
      "Epoch 81/1000\n",
      "1649/1649 [==============================] - 1s 574us/step - loss: 0.1219 - accuracy: 0.9727 - val_loss: 0.3610 - val_accuracy: 0.8959\n",
      "Epoch 82/1000\n",
      "1649/1649 [==============================] - 1s 579us/step - loss: 0.1165 - accuracy: 0.9745 - val_loss: 0.3590 - val_accuracy: 0.9007\n",
      "Epoch 83/1000\n",
      "1649/1649 [==============================] - 1s 587us/step - loss: 0.1116 - accuracy: 0.9733 - val_loss: 0.3626 - val_accuracy: 0.9007\n",
      "Epoch 84/1000\n",
      "1649/1649 [==============================] - 1s 573us/step - loss: 0.1074 - accuracy: 0.9776 - val_loss: 0.3570 - val_accuracy: 0.8983\n",
      "Epoch 85/1000\n",
      "1649/1649 [==============================] - 1s 574us/step - loss: 0.1032 - accuracy: 0.9776 - val_loss: 0.3604 - val_accuracy: 0.8959\n",
      "Epoch 86/1000\n",
      "1649/1649 [==============================] - 1s 591us/step - loss: 0.0990 - accuracy: 0.9800 - val_loss: 0.3635 - val_accuracy: 0.9007\n",
      "Epoch 87/1000\n",
      "1649/1649 [==============================] - 1s 572us/step - loss: 0.0953 - accuracy: 0.9812 - val_loss: 0.3622 - val_accuracy: 0.9007\n",
      "Epoch 88/1000\n",
      "1649/1649 [==============================] - 1s 565us/step - loss: 0.0920 - accuracy: 0.9818 - val_loss: 0.3656 - val_accuracy: 0.8983\n",
      "Epoch 89/1000\n",
      "1649/1649 [==============================] - 1s 578us/step - loss: 0.0889 - accuracy: 0.9812 - val_loss: 0.3643 - val_accuracy: 0.8983\n",
      "Epoch 90/1000\n",
      "1649/1649 [==============================] - 1s 570us/step - loss: 0.0853 - accuracy: 0.9830 - val_loss: 0.3683 - val_accuracy: 0.9007\n",
      "Epoch 91/1000\n",
      "1649/1649 [==============================] - 1s 586us/step - loss: 0.0816 - accuracy: 0.9824 - val_loss: 0.3680 - val_accuracy: 0.9007\n",
      "Epoch 92/1000\n",
      "1649/1649 [==============================] - 1s 573us/step - loss: 0.0783 - accuracy: 0.9836 - val_loss: 0.3706 - val_accuracy: 0.9007\n"
     ]
    }
   ],
   "source": [
    "model2 = Sequential()\n",
    "model2.add(Conv2D(6, kernel_size=(3, 3), activation='relu', input_shape=(64,64,1)))\n",
    "model2.add(MaxPooling2D(2, 2))\n",
    "model2.add(Conv2D(12, kernel_size=(3, 3), activation='relu', input_shape=(64,64,1)))\n",
    "model2.add(MaxPooling2D(2, 2))\n",
    "model2.add(Conv2D(24, kernel_size=(3, 3), activation='relu', input_shape=(64,64,1)))\n",
    "model2.add(MaxPooling2D(2, 2))\n",
    "model2.add(Flatten())\n",
    "model2.add(Dense(10, activation='softmax'))\n",
    "\n",
    "callbacks = [EarlyStopping(monitor='val_accuracy', patience=10)]\n",
    "\n",
    "loss = 'categorical_crossentropy'\n",
    "LEARNING_RATE = 0.02\n",
    "EPOCHS = 1000\n",
    "\n",
    "model2.compile(loss=loss,\n",
    "               optimizer=Adamax(lr=LEARNING_RATE), # SGD(lr=LEARNING_RATE)\n",
    "               metrics=['accuracy'])\n",
    "\n",
    "history = model2.fit(X_train,\n",
    "                     Y_train,\n",
    "                     epochs=EPOCHS,\n",
    "                     validation_data=(x_val, y_val),\n",
    "                     batch_size=X_train.shape[0],\n",
    "                     callbacks=callbacks)"
   ]
  },
  {
   "cell_type": "code",
   "execution_count": 1409,
   "metadata": {
    "scrolled": true
   },
   "outputs": [
    {
     "data": {
      "text/plain": [
       "[0.37059716086555045, 0.9007263779640198]"
      ]
     },
     "execution_count": 1409,
     "metadata": {},
     "output_type": "execute_result"
    }
   ],
   "source": [
    "score = model2.evaluate(x_val, y_val, verbose=0)\n",
    "score"
   ]
  },
  {
   "cell_type": "code",
   "execution_count": 1410,
   "metadata": {
    "scrolled": true
   },
   "outputs": [
    {
     "name": "stdout",
     "output_type": "stream",
     "text": [
      "Model: \"sequential_153\"\n",
      "_________________________________________________________________\n",
      "Layer (type)                 Output Shape              Param #   \n",
      "=================================================================\n",
      "conv2d_167 (Conv2D)          (None, 62, 62, 6)         60        \n",
      "_________________________________________________________________\n",
      "max_pooling2d_49 (MaxPooling (None, 31, 31, 6)         0         \n",
      "_________________________________________________________________\n",
      "conv2d_168 (Conv2D)          (None, 29, 29, 12)        660       \n",
      "_________________________________________________________________\n",
      "max_pooling2d_50 (MaxPooling (None, 14, 14, 12)        0         \n",
      "_________________________________________________________________\n",
      "conv2d_169 (Conv2D)          (None, 12, 12, 24)        2616      \n",
      "_________________________________________________________________\n",
      "max_pooling2d_51 (MaxPooling (None, 6, 6, 24)          0         \n",
      "_________________________________________________________________\n",
      "flatten_83 (Flatten)         (None, 864)               0         \n",
      "_________________________________________________________________\n",
      "dense_177 (Dense)            (None, 10)                8650      \n",
      "=================================================================\n",
      "Total params: 11,986\n",
      "Trainable params: 11,986\n",
      "Non-trainable params: 0\n",
      "_________________________________________________________________\n"
     ]
    }
   ],
   "source": [
    "model2.summary()"
   ]
  },
  {
   "cell_type": "code",
   "execution_count": 1411,
   "metadata": {},
   "outputs": [
    {
     "data": {
      "image/png": "[encoded data removed]",
      "text/plain": [
       "<Figure size 432x288 with 2 Axes>"
      ]
     },
     "metadata": {
      "needs_background": "light"
     },
     "output_type": "display_data"
    }
   ],
   "source": [
    "import pandas as pd\n",
    "%matplotlib inline\n",
    "\n",
    "fig, ax1 = plt.subplots()\n",
    "\n",
    "plt.plot(history.history['loss'][4:], label='loss')\n",
    "plt.plot(history.history['val_loss'][4:], c = 'black', label='val_loss')\n",
    "plt.legend()\n",
    "\n",
    "ax2 = ax1.twinx()\n",
    "plt.plot(history.history['accuracy'][4:], c = 'orange', label='accuracy')\n",
    "plt.plot(history.history['val_accuracy'][4:], c = 'red', label='val_accuracy')\n",
    "plt.legend()\n",
    "\n",
    "plt.grid(True)\n",
    "plt.title('Model performance throughout training')\n",
    "plt.xlabel('epoch');"
   ]
  },
  {
   "cell_type": "code",
   "execution_count": 1412,
   "metadata": {},
   "outputs": [],
   "source": [
    "y_predict = model2.predict(x_val)"
   ]
  },
  {
   "cell_type": "code",
   "execution_count": 1413,
   "metadata": {
    "scrolled": true
   },
   "outputs": [
    {
     "data": {
      "text/plain": [
       "array([4.4789235e-14, 1.1340146e-17, 6.2410060e-10, 9.9998307e-01,\n",
       "       3.8632554e-17, 3.2045866e-12, 1.2348252e-05, 3.6938055e-09,\n",
       "       4.5037632e-06, 2.7907301e-10], dtype=float32)"
      ]
     },
     "execution_count": 1413,
     "metadata": {},
     "output_type": "execute_result"
    }
   ],
   "source": [
    "y_predict[0]"
   ]
  },
  {
   "cell_type": "code",
   "execution_count": 1414,
   "metadata": {},
   "outputs": [
    {
     "data": {
      "text/html": [
       "<div>\n",
       "<style scoped>\n",
       "    .dataframe tbody tr th:only-of-type {\n",
       "        vertical-align: middle;\n",
       "    }\n",
       "\n",
       "    .dataframe tbody tr th {\n",
       "        vertical-align: top;\n",
       "    }\n",
       "\n",
       "    .dataframe thead th {\n",
       "        text-align: right;\n",
       "    }\n",
       "</style>\n",
       "<table border=\"1\" class=\"dataframe\">\n",
       "  <thead>\n",
       "    <tr style=\"text-align: right;\">\n",
       "      <th></th>\n",
       "      <th>0</th>\n",
       "      <th>1</th>\n",
       "      <th>2</th>\n",
       "      <th>3</th>\n",
       "      <th>4</th>\n",
       "      <th>5</th>\n",
       "      <th>6</th>\n",
       "      <th>7</th>\n",
       "      <th>8</th>\n",
       "      <th>9</th>\n",
       "    </tr>\n",
       "  </thead>\n",
       "  <tbody>\n",
       "    <tr>\n",
       "      <th>0</th>\n",
       "      <td>4.479e-14</td>\n",
       "      <td>1.134e-17</td>\n",
       "      <td>6.241e-10</td>\n",
       "      <td>1.000e+00</td>\n",
       "      <td>3.863e-17</td>\n",
       "      <td>3.205e-12</td>\n",
       "      <td>1.235e-05</td>\n",
       "      <td>3.694e-09</td>\n",
       "      <td>4.504e-06</td>\n",
       "      <td>2.791e-10</td>\n",
       "    </tr>\n",
       "    <tr>\n",
       "      <th>1</th>\n",
       "      <td>8.151e-01</td>\n",
       "      <td>3.021e-07</td>\n",
       "      <td>1.846e-03</td>\n",
       "      <td>3.681e-05</td>\n",
       "      <td>7.667e-09</td>\n",
       "      <td>1.825e-01</td>\n",
       "      <td>5.098e-04</td>\n",
       "      <td>5.869e-06</td>\n",
       "      <td>2.926e-05</td>\n",
       "      <td>3.024e-06</td>\n",
       "    </tr>\n",
       "    <tr>\n",
       "      <th>2</th>\n",
       "      <td>1.773e-09</td>\n",
       "      <td>8.621e-11</td>\n",
       "      <td>5.559e-04</td>\n",
       "      <td>2.487e-01</td>\n",
       "      <td>8.847e-09</td>\n",
       "      <td>8.179e-07</td>\n",
       "      <td>2.271e-05</td>\n",
       "      <td>5.226e-04</td>\n",
       "      <td>7.502e-01</td>\n",
       "      <td>4.387e-10</td>\n",
       "    </tr>\n",
       "    <tr>\n",
       "      <th>3</th>\n",
       "      <td>6.543e-07</td>\n",
       "      <td>2.895e-09</td>\n",
       "      <td>5.482e-04</td>\n",
       "      <td>1.252e-05</td>\n",
       "      <td>9.653e-01</td>\n",
       "      <td>1.315e-06</td>\n",
       "      <td>3.366e-06</td>\n",
       "      <td>6.782e-04</td>\n",
       "      <td>3.343e-02</td>\n",
       "      <td>2.977e-07</td>\n",
       "    </tr>\n",
       "    <tr>\n",
       "      <th>4</th>\n",
       "      <td>7.799e-08</td>\n",
       "      <td>2.423e-13</td>\n",
       "      <td>5.999e-02</td>\n",
       "      <td>6.947e-10</td>\n",
       "      <td>4.921e-15</td>\n",
       "      <td>9.995e-06</td>\n",
       "      <td>6.740e-06</td>\n",
       "      <td>2.143e-04</td>\n",
       "      <td>1.376e-12</td>\n",
       "      <td>9.398e-01</td>\n",
       "    </tr>\n",
       "  </tbody>\n",
       "</table>\n",
       "</div>"
      ],
      "text/plain": [
       "           0          1          2          3          4          5          6          7  \\\n",
       "0  4.479e-14  1.134e-17  6.241e-10  1.000e+00  3.863e-17  3.205e-12  1.235e-05  3.694e-09   \n",
       "1  8.151e-01  3.021e-07  1.846e-03  3.681e-05  7.667e-09  1.825e-01  5.098e-04  5.869e-06   \n",
       "2  1.773e-09  8.621e-11  5.559e-04  2.487e-01  8.847e-09  8.179e-07  2.271e-05  5.226e-04   \n",
       "3  6.543e-07  2.895e-09  5.482e-04  1.252e-05  9.653e-01  1.315e-06  3.366e-06  6.782e-04   \n",
       "4  7.799e-08  2.423e-13  5.999e-02  6.947e-10  4.921e-15  9.995e-06  6.740e-06  2.143e-04   \n",
       "\n",
       "           8          9  \n",
       "0  4.504e-06  2.791e-10  \n",
       "1  2.926e-05  3.024e-06  \n",
       "2  7.502e-01  4.387e-10  \n",
       "3  3.343e-02  2.977e-07  \n",
       "4  1.376e-12  9.398e-01  "
      ]
     },
     "execution_count": 1414,
     "metadata": {},
     "output_type": "execute_result"
    }
   ],
   "source": [
    "y_predict = pandas.DataFrame(y_predict)\n",
    "y_predict.columns = ['0','1','2','3','4','5','6','7','8','9']\n",
    "y_predict.head()"
   ]
  },
  {
   "cell_type": "code",
   "execution_count": 1415,
   "metadata": {},
   "outputs": [
    {
     "data": {
      "text/html": [
       "<div>\n",
       "<style scoped>\n",
       "    .dataframe tbody tr th:only-of-type {\n",
       "        vertical-align: middle;\n",
       "    }\n",
       "\n",
       "    .dataframe tbody tr th {\n",
       "        vertical-align: top;\n",
       "    }\n",
       "\n",
       "    .dataframe thead th {\n",
       "        text-align: right;\n",
       "    }\n",
       "</style>\n",
       "<table border=\"1\" class=\"dataframe\">\n",
       "  <thead>\n",
       "    <tr style=\"text-align: right;\">\n",
       "      <th></th>\n",
       "      <th>0</th>\n",
       "      <th>1</th>\n",
       "      <th>2</th>\n",
       "      <th>3</th>\n",
       "      <th>4</th>\n",
       "      <th>5</th>\n",
       "      <th>6</th>\n",
       "      <th>7</th>\n",
       "      <th>8</th>\n",
       "      <th>9</th>\n",
       "    </tr>\n",
       "  </thead>\n",
       "  <tbody>\n",
       "    <tr>\n",
       "      <th>0</th>\n",
       "      <td>0.0</td>\n",
       "      <td>0.0</td>\n",
       "      <td>0.0</td>\n",
       "      <td>1.0</td>\n",
       "      <td>0.0</td>\n",
       "      <td>0.0</td>\n",
       "      <td>0.0</td>\n",
       "      <td>0.0</td>\n",
       "      <td>0.0</td>\n",
       "      <td>0.0</td>\n",
       "    </tr>\n",
       "    <tr>\n",
       "      <th>1</th>\n",
       "      <td>1.0</td>\n",
       "      <td>0.0</td>\n",
       "      <td>0.0</td>\n",
       "      <td>0.0</td>\n",
       "      <td>0.0</td>\n",
       "      <td>0.0</td>\n",
       "      <td>0.0</td>\n",
       "      <td>0.0</td>\n",
       "      <td>0.0</td>\n",
       "      <td>0.0</td>\n",
       "    </tr>\n",
       "    <tr>\n",
       "      <th>2</th>\n",
       "      <td>0.0</td>\n",
       "      <td>0.0</td>\n",
       "      <td>0.0</td>\n",
       "      <td>0.0</td>\n",
       "      <td>0.0</td>\n",
       "      <td>0.0</td>\n",
       "      <td>0.0</td>\n",
       "      <td>0.0</td>\n",
       "      <td>1.0</td>\n",
       "      <td>0.0</td>\n",
       "    </tr>\n",
       "    <tr>\n",
       "      <th>3</th>\n",
       "      <td>0.0</td>\n",
       "      <td>0.0</td>\n",
       "      <td>0.0</td>\n",
       "      <td>0.0</td>\n",
       "      <td>1.0</td>\n",
       "      <td>0.0</td>\n",
       "      <td>0.0</td>\n",
       "      <td>0.0</td>\n",
       "      <td>0.0</td>\n",
       "      <td>0.0</td>\n",
       "    </tr>\n",
       "    <tr>\n",
       "      <th>4</th>\n",
       "      <td>0.0</td>\n",
       "      <td>0.0</td>\n",
       "      <td>0.0</td>\n",
       "      <td>0.0</td>\n",
       "      <td>0.0</td>\n",
       "      <td>0.0</td>\n",
       "      <td>0.0</td>\n",
       "      <td>0.0</td>\n",
       "      <td>0.0</td>\n",
       "      <td>1.0</td>\n",
       "    </tr>\n",
       "  </tbody>\n",
       "</table>\n",
       "</div>"
      ],
      "text/plain": [
       "     0    1    2    3    4    5    6    7    8    9\n",
       "0  0.0  0.0  0.0  1.0  0.0  0.0  0.0  0.0  0.0  0.0\n",
       "1  1.0  0.0  0.0  0.0  0.0  0.0  0.0  0.0  0.0  0.0\n",
       "2  0.0  0.0  0.0  0.0  0.0  0.0  0.0  0.0  1.0  0.0\n",
       "3  0.0  0.0  0.0  0.0  1.0  0.0  0.0  0.0  0.0  0.0\n",
       "4  0.0  0.0  0.0  0.0  0.0  0.0  0.0  0.0  0.0  1.0"
      ]
     },
     "execution_count": 1415,
     "metadata": {},
     "output_type": "execute_result"
    }
   ],
   "source": [
    "for i in range(0, 10):\n",
    "    y_predict.loc[y_predict[str(i)] == y_predict.agg(func=max, axis=1), str(i)] = 1\n",
    "    y_predict.loc[y_predict[str(i)] < 1, str(i)] = 0\n",
    "\n",
    "y_predict.head()"
   ]
  },
  {
   "cell_type": "code",
   "execution_count": 1416,
   "metadata": {
    "scrolled": true
   },
   "outputs": [
    {
     "data": {
      "text/html": [
       "<div>\n",
       "<style scoped>\n",
       "    .dataframe tbody tr th:only-of-type {\n",
       "        vertical-align: middle;\n",
       "    }\n",
       "\n",
       "    .dataframe tbody tr th {\n",
       "        vertical-align: top;\n",
       "    }\n",
       "\n",
       "    .dataframe thead th {\n",
       "        text-align: right;\n",
       "    }\n",
       "</style>\n",
       "<table border=\"1\" class=\"dataframe\">\n",
       "  <thead>\n",
       "    <tr style=\"text-align: right;\">\n",
       "      <th></th>\n",
       "      <th>0</th>\n",
       "      <th>1</th>\n",
       "      <th>2</th>\n",
       "      <th>3</th>\n",
       "      <th>4</th>\n",
       "      <th>5</th>\n",
       "      <th>6</th>\n",
       "      <th>7</th>\n",
       "      <th>8</th>\n",
       "      <th>9</th>\n",
       "    </tr>\n",
       "  </thead>\n",
       "  <tbody>\n",
       "    <tr>\n",
       "      <th>0</th>\n",
       "      <td>0.0</td>\n",
       "      <td>0.0</td>\n",
       "      <td>0.0</td>\n",
       "      <td>1.0</td>\n",
       "      <td>0.0</td>\n",
       "      <td>0.0</td>\n",
       "      <td>0.0</td>\n",
       "      <td>0.0</td>\n",
       "      <td>0.0</td>\n",
       "      <td>0.0</td>\n",
       "    </tr>\n",
       "    <tr>\n",
       "      <th>1</th>\n",
       "      <td>0.0</td>\n",
       "      <td>0.0</td>\n",
       "      <td>0.0</td>\n",
       "      <td>0.0</td>\n",
       "      <td>0.0</td>\n",
       "      <td>1.0</td>\n",
       "      <td>0.0</td>\n",
       "      <td>0.0</td>\n",
       "      <td>0.0</td>\n",
       "      <td>0.0</td>\n",
       "    </tr>\n",
       "    <tr>\n",
       "      <th>2</th>\n",
       "      <td>0.0</td>\n",
       "      <td>0.0</td>\n",
       "      <td>0.0</td>\n",
       "      <td>0.0</td>\n",
       "      <td>0.0</td>\n",
       "      <td>0.0</td>\n",
       "      <td>0.0</td>\n",
       "      <td>0.0</td>\n",
       "      <td>1.0</td>\n",
       "      <td>0.0</td>\n",
       "    </tr>\n",
       "    <tr>\n",
       "      <th>3</th>\n",
       "      <td>0.0</td>\n",
       "      <td>0.0</td>\n",
       "      <td>0.0</td>\n",
       "      <td>0.0</td>\n",
       "      <td>1.0</td>\n",
       "      <td>0.0</td>\n",
       "      <td>0.0</td>\n",
       "      <td>0.0</td>\n",
       "      <td>0.0</td>\n",
       "      <td>0.0</td>\n",
       "    </tr>\n",
       "    <tr>\n",
       "      <th>4</th>\n",
       "      <td>0.0</td>\n",
       "      <td>0.0</td>\n",
       "      <td>0.0</td>\n",
       "      <td>0.0</td>\n",
       "      <td>0.0</td>\n",
       "      <td>0.0</td>\n",
       "      <td>0.0</td>\n",
       "      <td>0.0</td>\n",
       "      <td>0.0</td>\n",
       "      <td>1.0</td>\n",
       "    </tr>\n",
       "  </tbody>\n",
       "</table>\n",
       "</div>"
      ],
      "text/plain": [
       "     0    1    2    3    4    5    6    7    8    9\n",
       "0  0.0  0.0  0.0  1.0  0.0  0.0  0.0  0.0  0.0  0.0\n",
       "1  0.0  0.0  0.0  0.0  0.0  1.0  0.0  0.0  0.0  0.0\n",
       "2  0.0  0.0  0.0  0.0  0.0  0.0  0.0  0.0  1.0  0.0\n",
       "3  0.0  0.0  0.0  0.0  1.0  0.0  0.0  0.0  0.0  0.0\n",
       "4  0.0  0.0  0.0  0.0  0.0  0.0  0.0  0.0  0.0  1.0"
      ]
     },
     "execution_count": 1416,
     "metadata": {},
     "output_type": "execute_result"
    }
   ],
   "source": [
    "y_val_mod = pandas.DataFrame(y_val)\n",
    "y_val_mod.columns = ['0','1','2','3','4','5','6','7','8','9']\n",
    "y_val_mod.head()"
   ]
  },
  {
   "cell_type": "code",
   "execution_count": 1417,
   "metadata": {},
   "outputs": [],
   "source": [
    "y_val_mod = numpy.array(y_val_mod)\n",
    "y_predict = numpy.array(y_predict)"
   ]
  },
  {
   "cell_type": "code",
   "execution_count": 1418,
   "metadata": {},
   "outputs": [],
   "source": [
    "def Y_transform(Y_train):\n",
    "    Y_output = []\n",
    "    for line in range(len(Y_train)):\n",
    "        for col in range(10):\n",
    "            value = str(int(Y_train[line][col]))\n",
    "            if value == '1':\n",
    "                Y_output += [str(col)]\n",
    "\n",
    "    return Y_output"
   ]
  },
  {
   "cell_type": "code",
   "execution_count": 1419,
   "metadata": {},
   "outputs": [],
   "source": [
    "y_val_mod = Y_transform(y_val_mod)\n",
    "y_predict = Y_transform(y_predict)"
   ]
  },
  {
   "cell_type": "code",
   "execution_count": 1420,
   "metadata": {},
   "outputs": [
    {
     "name": "stdout",
     "output_type": "stream",
     "text": [
      "[[30  0  0  0  0  4  0  0  0  1]\n",
      " [ 0 45  0  1  0  0  0  0  0  0]\n",
      " [ 0  0 32  2  0  0  3  0  2  0]\n",
      " [ 0  0  0 42  0  0  3  0  3  0]\n",
      " [ 1  0  0  0 40  0  0  0  0  0]\n",
      " [ 0  0  1  0  2 40  0  0  0  0]\n",
      " [ 1  1  3  2  0  0 27  0  0  2]\n",
      " [ 0  0  0  0  0  0  0 42  1  0]\n",
      " [ 0  0  1  2  0  0  0  3 40  0]\n",
      " [ 1  0  0  0  0  0  0  1  0 34]]\n"
     ]
    },
    {
     "data": {
      "image/png": "[encoded data removed]",
      "text/plain": [
       "<Figure size 432x288 with 1 Axes>"
      ]
     },
     "metadata": {
      "needs_background": "light"
     },
     "output_type": "display_data"
    }
   ],
   "source": [
    "conf_matrix = metrics.confusion_matrix(y_predict, y_val_mod)\n",
    "print(conf_matrix)\n",
    "plt.imshow(conf_matrix, cmap='binary');"
   ]
  },
  {
   "cell_type": "code",
   "execution_count": null,
   "metadata": {},
   "outputs": [],
   "source": []
  },
  {
   "cell_type": "code",
   "execution_count": null,
   "metadata": {},
   "outputs": [],
   "source": []
  },
  {
   "cell_type": "code",
   "execution_count": null,
   "metadata": {},
   "outputs": [],
   "source": []
  },
  {
   "cell_type": "code",
   "execution_count": null,
   "metadata": {},
   "outputs": [],
   "source": []
  }
 ],
 "metadata": {
  "kernelspec": {
   "display_name": "Python 3",
   "language": "python",
   "name": "python3"
  },
  "language_info": {
   "codemirror_mode": {
    "name": "ipython",
    "version": 3
   },
   "file_extension": ".py",
   "mimetype": "text/x-python",
   "name": "python",
   "nbconvert_exporter": "python",
   "pygments_lexer": "ipython3",
   "version": "3.7.3"
  },
  "toc": {
   "base_numbering": 1,
   "nav_menu": {},
   "number_sections": true,
   "sideBar": true,
   "skip_h1_title": false,
   "title_cell": "Table of Contents",
   "title_sidebar": "Contents",
   "toc_cell": false,
   "toc_position": {
    "height": "calc(100% - 180px)",
    "left": "10px",
    "top": "150px",
    "width": "256px"
   },
   "toc_section_display": true,
   "toc_window_display": true
  }
 },
 "nbformat": 4,
 "nbformat_minor": 2
}
