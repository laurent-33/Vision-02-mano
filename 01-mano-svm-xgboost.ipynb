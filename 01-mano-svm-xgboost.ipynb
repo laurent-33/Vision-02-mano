{
 "cells": [
  {
   "cell_type": "markdown",
   "metadata": {},
   "source": [
    "# Récupération des données"
   ]
  },
  {
   "cell_type": "code",
   "execution_count": 1,
   "metadata": {},
   "outputs": [],
   "source": [
    "import pandas\n",
    "import matplotlib\n",
    "import matplotlib.pyplot as plt\n",
    "import numpy\n",
    "from sklearn.model_selection import train_test_split\n",
    "from sklearn import metrics\n",
    "from sklearn import svm\n",
    "import xgboost as xgb\n",
    "%matplotlib inline\n",
    "pandas.set_option('display.width', 100)\n",
    "pandas.set_option('precision', 3)"
   ]
  },
  {
   "cell_type": "code",
   "execution_count": 2,
   "metadata": {},
   "outputs": [],
   "source": [
    "Y_train = numpy.load('Y_train.npy')"
   ]
  },
  {
   "cell_type": "code",
   "execution_count": 3,
   "metadata": {},
   "outputs": [],
   "source": [
    "X_train = numpy.load('X_train.npy')"
   ]
  },
  {
   "cell_type": "markdown",
   "metadata": {},
   "source": [
    "## Remise en forme des données"
   ]
  },
  {
   "cell_type": "code",
   "execution_count": 4,
   "metadata": {},
   "outputs": [
    {
     "name": "stdout",
     "output_type": "stream",
     "text": [
      "(2062, 64, 64)\n",
      "(2062, 10)\n"
     ]
    }
   ],
   "source": [
    "print(X_train.shape)\n",
    "print(Y_train.shape)"
   ]
  },
  {
   "cell_type": "code",
   "execution_count": 5,
   "metadata": {},
   "outputs": [
    {
     "data": {
      "text/plain": [
       "(2062, 4096)"
      ]
     },
     "execution_count": 5,
     "metadata": {},
     "output_type": "execute_result"
    }
   ],
   "source": [
    "X_train = X_train.reshape(X_train.shape[0], X_train.shape[1]*X_train.shape[2])\n",
    "X_train.shape"
   ]
  },
  {
   "cell_type": "code",
   "execution_count": 6,
   "metadata": {},
   "outputs": [
    {
     "data": {
      "text/plain": [
       "array([[1., 0., 0., 0., 0., 0., 0., 0., 0., 0.],\n",
       "       [1., 0., 0., 0., 0., 0., 0., 0., 0., 0.],\n",
       "       [1., 0., 0., 0., 0., 0., 0., 0., 0., 0.],\n",
       "       [1., 0., 0., 0., 0., 0., 0., 0., 0., 0.],\n",
       "       [1., 0., 0., 0., 0., 0., 0., 0., 0., 0.]])"
      ]
     },
     "execution_count": 6,
     "metadata": {},
     "output_type": "execute_result"
    }
   ],
   "source": [
    "Y_train[:5]"
   ]
  },
  {
   "cell_type": "code",
   "execution_count": 7,
   "metadata": {},
   "outputs": [
    {
     "data": {
      "text/plain": [
       "['0', '0', '0', '0', '0']"
      ]
     },
     "execution_count": 7,
     "metadata": {},
     "output_type": "execute_result"
    }
   ],
   "source": [
    "Y_output = []\n",
    "for line in range(len(Y_train)):\n",
    "    for col in range(10):\n",
    "        value = str(int(Y_train[line][col]))\n",
    "        if value == '1':\n",
    "            Y_output += [str(col)]\n",
    "\n",
    "Y_output[:5]"
   ]
  },
  {
   "cell_type": "markdown",
   "metadata": {},
   "source": [
    "## Train / Val Split"
   ]
  },
  {
   "cell_type": "code",
   "execution_count": 8,
   "metadata": {},
   "outputs": [],
   "source": [
    "X_train, x_val, Y_train, y_val = train_test_split(X_train, Y_output, test_size=0.2, random_state=15)"
   ]
  },
  {
   "cell_type": "code",
   "execution_count": 9,
   "metadata": {},
   "outputs": [
    {
     "name": "stdout",
     "output_type": "stream",
     "text": [
      "(1649, 4096)\n",
      "1649\n",
      "(413, 4096)\n",
      "413\n"
     ]
    }
   ],
   "source": [
    "print(X_train.shape)\n",
    "print(len(Y_train))\n",
    "print(x_val.shape)\n",
    "print(len(y_val))"
   ]
  },
  {
   "cell_type": "markdown",
   "metadata": {},
   "source": [
    "# Génération de différents modèles SVM"
   ]
  },
  {
   "cell_type": "markdown",
   "metadata": {},
   "source": [
    "## Distribution des modalités du set de validation"
   ]
  },
  {
   "cell_type": "code",
   "execution_count": 10,
   "metadata": {
    "scrolled": true
   },
   "outputs": [
    {
     "data": {
      "image/png": "[encoded data removed]",
      "text/plain": [
       "<Figure size 432x288 with 1 Axes>"
      ]
     },
     "metadata": {
      "needs_background": "light"
     },
     "output_type": "display_data"
    }
   ],
   "source": [
    "plt.hist(y_val,edgecolor = 'black');"
   ]
  },
  {
   "cell_type": "code",
   "execution_count": 11,
   "metadata": {},
   "outputs": [
    {
     "name": "stderr",
     "output_type": "stream",
     "text": [
      "/opt/conda/lib/python3.7/site-packages/sklearn/svm/base.py:929: ConvergenceWarning: Liblinear failed to converge, increase the number of iterations.\n",
      "  \"the number of iterations.\", ConvergenceWarning)\n",
      "/opt/conda/lib/python3.7/site-packages/sklearn/svm/base.py:193: FutureWarning: The default value of gamma will change from 'auto' to 'scale' in version 0.22 to account better for unscaled features. Set gamma explicitly to 'auto' or 'scale' to avoid this warning.\n",
      "  \"avoid this warning.\", FutureWarning)\n",
      "/opt/conda/lib/python3.7/site-packages/sklearn/svm/base.py:193: FutureWarning: The default value of gamma will change from 'auto' to 'scale' in version 0.22 to account better for unscaled features. Set gamma explicitly to 'auto' or 'scale' to avoid this warning.\n",
      "  \"avoid this warning.\", FutureWarning)\n"
     ]
    }
   ],
   "source": [
    "models = (svm.SVC(kernel='linear'),\n",
    "          svm.LinearSVC(),\n",
    "          svm.SVC(kernel='rbf'),\n",
    "          svm.SVC(kernel='poly', degree=3))\n",
    "          \n",
    "models = [model.fit(X_train, Y_train) for model in models]"
   ]
  },
  {
   "cell_type": "markdown",
   "metadata": {},
   "source": [
    "## Génération des prédictions"
   ]
  },
  {
   "cell_type": "code",
   "execution_count": 12,
   "metadata": {},
   "outputs": [],
   "source": [
    "y_predicts = [model.predict(x_val) for model in models]"
   ]
  },
  {
   "cell_type": "markdown",
   "metadata": {},
   "source": [
    "## Evaluation des modèles"
   ]
  },
  {
   "cell_type": "code",
   "execution_count": 13,
   "metadata": {},
   "outputs": [
    {
     "name": "stderr",
     "output_type": "stream",
     "text": [
      "/opt/conda/lib/python3.7/site-packages/sklearn/metrics/classification.py:1437: UndefinedMetricWarning: Precision and F-score are ill-defined and being set to 0.0 in labels with no predicted samples.\n",
      "  'precision', 'predicted', average, warn_for)\n"
     ]
    }
   ],
   "source": [
    "reports = [metrics.classification_report(y_val, y_predict) for y_predict in y_predicts]"
   ]
  },
  {
   "cell_type": "code",
   "execution_count": 14,
   "metadata": {},
   "outputs": [
    {
     "name": "stdout",
     "output_type": "stream",
     "text": [
      "              precision    recall  f1-score   support\n",
      "\n",
      "           0       0.79      0.82      0.81        33\n",
      "           1       0.92      0.96      0.94        46\n",
      "           2       0.64      0.78      0.71        37\n",
      "           3       0.80      0.71      0.75        49\n",
      "           4       0.90      0.83      0.86        42\n",
      "           5       0.84      0.82      0.83        44\n",
      "           6       0.53      0.64      0.58        33\n",
      "           7       0.95      0.91      0.93        46\n",
      "           8       0.87      0.74      0.80        46\n",
      "           9       0.86      0.86      0.86        37\n",
      "\n",
      "    accuracy                           0.81       413\n",
      "   macro avg       0.81      0.81      0.81       413\n",
      "weighted avg       0.82      0.81      0.81       413\n",
      "\n",
      "              precision    recall  f1-score   support\n",
      "\n",
      "           0       0.76      0.79      0.78        33\n",
      "           1       0.85      0.85      0.85        46\n",
      "           2       0.51      0.51      0.51        37\n",
      "           3       0.66      0.63      0.65        49\n",
      "           4       0.74      0.69      0.72        42\n",
      "           5       0.73      0.68      0.71        44\n",
      "           6       0.31      0.48      0.38        33\n",
      "           7       0.83      0.83      0.83        46\n",
      "           8       0.64      0.54      0.59        46\n",
      "           9       0.88      0.78      0.83        37\n",
      "\n",
      "    accuracy                           0.68       413\n",
      "   macro avg       0.69      0.68      0.68       413\n",
      "weighted avg       0.70      0.68      0.69       413\n",
      "\n",
      "              precision    recall  f1-score   support\n",
      "\n",
      "           0       0.62      0.79      0.69        33\n",
      "           1       0.82      0.70      0.75        46\n",
      "           2       0.33      0.11      0.16        37\n",
      "           3       0.00      0.00      0.00        49\n",
      "           4       0.47      0.71      0.57        42\n",
      "           5       0.00      0.00      0.00        44\n",
      "           6       0.16      0.91      0.27        33\n",
      "           7       0.86      0.39      0.54        46\n",
      "           8       0.75      0.07      0.12        46\n",
      "           9       0.59      0.65      0.62        37\n",
      "\n",
      "    accuracy                           0.40       413\n",
      "   macro avg       0.46      0.43      0.37       413\n",
      "weighted avg       0.46      0.40      0.36       413\n",
      "\n",
      "              precision    recall  f1-score   support\n",
      "\n",
      "           0       0.00      0.00      0.00        33\n",
      "           1       1.00      0.02      0.04        46\n",
      "           2       0.00      0.00      0.00        37\n",
      "           3       0.00      0.00      0.00        49\n",
      "           4       0.12      0.07      0.09        42\n",
      "           5       0.00      0.00      0.00        44\n",
      "           6       0.08      0.94      0.15        33\n",
      "           7       0.00      0.00      0.00        46\n",
      "           8       0.00      0.00      0.00        46\n",
      "           9       0.00      0.00      0.00        37\n",
      "\n",
      "    accuracy                           0.08       413\n",
      "   macro avg       0.12      0.10      0.03       413\n",
      "weighted avg       0.13      0.08      0.03       413\n",
      "\n"
     ]
    }
   ],
   "source": [
    "[print(report) for report in reports];"
   ]
  },
  {
   "cell_type": "code",
   "execution_count": 15,
   "metadata": {},
   "outputs": [
    {
     "name": "stdout",
     "output_type": "stream",
     "text": [
      "[[27  0  0  0  0  3  1  0  1  2]\n",
      " [ 0 44  0  0  1  1  0  1  1  0]\n",
      " [ 1  0 29  2  3  0  6  0  3  1]\n",
      " [ 0  0  0 35  0  2  2  0  4  1]\n",
      " [ 0  0  1  0 35  0  0  1  1  1]\n",
      " [ 2  0  1  0  1 36  3  0  0  0]\n",
      " [ 0  2  5 10  1  1 21  0  0  0]\n",
      " [ 0  0  0  0  0  0  0 42  2  0]\n",
      " [ 0  0  1  2  1  0  0  1 34  0]\n",
      " [ 3  0  0  0  0  1  0  1  0 32]]\n"
     ]
    },
    {
     "data": {
      "image/png": "[encoded data removed]",
      "text/plain": [
       "<Figure size 432x288 with 1 Axes>"
      ]
     },
     "metadata": {
      "needs_background": "light"
     },
     "output_type": "display_data"
    }
   ],
   "source": [
    "conf_matrix = metrics.confusion_matrix(y_predicts[0], y_val)\n",
    "print(conf_matrix)\n",
    "plt.imshow(conf_matrix, cmap='binary');"
   ]
  },
  {
   "cell_type": "markdown",
   "metadata": {},
   "source": [
    "# Modèle xgboost"
   ]
  },
  {
   "cell_type": "code",
   "execution_count": 16,
   "metadata": {},
   "outputs": [
    {
     "data": {
      "text/plain": [
       "XGBClassifier(base_score=0.5, booster='gbtree', colsample_bylevel=1,\n",
       "              colsample_bynode=1, colsample_bytree=1, gamma=0,\n",
       "              learning_rate=0.1, max_delta_step=0, max_depth=3,\n",
       "              min_child_weight=1, missing=None, n_estimators=100, n_jobs=1,\n",
       "              nthread=None, objective='multi:softprob', random_state=0,\n",
       "              reg_alpha=0, reg_lambda=1, scale_pos_weight=1, seed=None,\n",
       "              silent=None, subsample=1, verbosity=1)"
      ]
     },
     "execution_count": 16,
     "metadata": {},
     "output_type": "execute_result"
    }
   ],
   "source": [
    "model = xgb.XGBClassifier()\n",
    "model.fit(X_train, Y_train)"
   ]
  },
  {
   "cell_type": "markdown",
   "metadata": {},
   "source": [
    "## Génération des prédictions"
   ]
  },
  {
   "cell_type": "code",
   "execution_count": 17,
   "metadata": {},
   "outputs": [
    {
     "name": "stdout",
     "output_type": "stream",
     "text": [
      "              precision    recall  f1-score   support\n",
      "\n",
      "           0       0.85      0.85      0.85        33\n",
      "           1       0.95      0.87      0.91        46\n",
      "           2       0.71      0.65      0.68        37\n",
      "           3       0.63      0.63      0.63        49\n",
      "           4       0.81      0.81      0.81        42\n",
      "           5       0.79      0.75      0.77        44\n",
      "           6       0.57      0.85      0.68        33\n",
      "           7       0.92      0.74      0.82        46\n",
      "           8       0.59      0.63      0.61        46\n",
      "           9       0.92      0.89      0.90        37\n",
      "\n",
      "    accuracy                           0.76       413\n",
      "   macro avg       0.77      0.77      0.77       413\n",
      "weighted avg       0.77      0.76      0.76       413\n",
      "\n"
     ]
    }
   ],
   "source": [
    "y_predict = model.predict(x_val)\n",
    "print(metrics.classification_report(y_val, y_predict))"
   ]
  },
  {
   "cell_type": "code",
   "execution_count": 18,
   "metadata": {},
   "outputs": [
    {
     "data": {
      "text/plain": [
       "0.7602905569007264"
      ]
     },
     "execution_count": 18,
     "metadata": {},
     "output_type": "execute_result"
    }
   ],
   "source": [
    "metrics.accuracy_score(y_val, y_predict)"
   ]
  },
  {
   "cell_type": "markdown",
   "metadata": {},
   "source": [
    "## Evaluation du modèle "
   ]
  },
  {
   "cell_type": "code",
   "execution_count": 19,
   "metadata": {},
   "outputs": [
    {
     "name": "stdout",
     "output_type": "stream",
     "text": [
      "[[28  0  0  0  0  3  0  1  1  0]\n",
      " [ 0 40  0  0  2  0  0  0  0  0]\n",
      " [ 1  0 24  2  1  1  2  0  3  0]\n",
      " [ 1  3  0 31  1  1  2  0 10  0]\n",
      " [ 1  0  4  0 34  2  0  1  0  0]\n",
      " [ 0  0  1  1  3 33  1  2  1  0]\n",
      " [ 1  2  3  9  0  2 28  0  2  2]\n",
      " [ 0  0  0  0  0  1  0 34  0  2]\n",
      " [ 1  1  5  6  1  1  0  5 29  0]\n",
      " [ 0  0  0  0  0  0  0  3  0 33]]\n"
     ]
    },
    {
     "data": {
      "image/png": "[encoded data removed]",
      "text/plain": [
       "<Figure size 432x288 with 1 Axes>"
      ]
     },
     "metadata": {
      "needs_background": "light"
     },
     "output_type": "display_data"
    }
   ],
   "source": [
    "conf_matrix = metrics.confusion_matrix(y_predict, y_val)\n",
    "print(conf_matrix)\n",
    "plt.imshow(conf_matrix, cmap='binary');"
   ]
  },
  {
   "cell_type": "code",
   "execution_count": 20,
   "metadata": {},
   "outputs": [
    {
     "data": {
      "text/plain": [
       "array(['3', '0', '3', '3', '9', '5', '8', '7', '1', '2', '2', '0', '7',\n",
       "       '2', '9', '2', '3', '6', '9', '5', '4', '8', '6', '2', '1', '6',\n",
       "       '8', '8', '5', '7', '9', '5', '9', '3', '7', '6', '8', '5', '3',\n",
       "       '8', '8', '4', '6', '0', '3', '8', '4', '2', '6', '6', '2', '6',\n",
       "       '8', '6', '8', '2', '8', '1', '1', '8', '3', '2', '1', '0', '1',\n",
       "       '4', '5', '6', '9', '5', '1', '4', '6', '0', '6', '1', '8', '5',\n",
       "       '6', '6', '6', '6', '2', '6', '1', '3', '8', '1', '5', '5', '4',\n",
       "       '5', '7', '9', '8', '5', '0', '9', '4', '7', '4', '3', '6', '6',\n",
       "       '1', '5', '1', '9', '0', '0', '2', '1', '8', '7', '9', '0', '9',\n",
       "       '7', '9', '0', '3', '0', '8', '3', '4', '6', '7', '6', '0', '5',\n",
       "       '3', '7', '4', '5', '0', '0', '4', '5', '5', '9', '7', '3', '5',\n",
       "       '9', '7', '7', '6', '5', '7', '1', '8', '4', '0', '2', '4', '1',\n",
       "       '5', '9', '8', '9', '8', '1', '9', '5', '9', '9', '2', '6', '3',\n",
       "       '7', '8', '3', '7', '8', '7', '3', '7', '5', '8', '1', '1', '6',\n",
       "       '1', '5', '2', '2', '2', '9', '8', '5', '4', '0', '5', '1', '4',\n",
       "       '6', '0', '7', '4', '1', '0', '3', '8', '6', '1', '8', '2', '6',\n",
       "       '4', '8', '9', '3', '9', '2', '3', '5', '8', '6', '6', '2', '3',\n",
       "       '2', '0', '6', '5', '5', '1', '6', '9', '7', '2', '7', '9', '3',\n",
       "       '0', '7', '3', '0', '8', '1', '5', '7', '6', '3', '6', '6', '6',\n",
       "       '4', '0', '7', '4', '2', '3', '4', '5', '7', '1', '3', '8', '7',\n",
       "       '8', '8', '8', '9', '8', '2', '5', '3', '4', '3', '0', '7', '6',\n",
       "       '4', '4', '8', '1', '3', '6', '4', '0', '6', '5', '8', '4', '3',\n",
       "       '8', '9', '5', '5', '4', '7', '6', '8', '6', '9', '3', '6', '6',\n",
       "       '9', '0', '1', '4', '4', '4', '8', '6', '4', '1', '0', '8', '5',\n",
       "       '7', '8', '6', '0', '3', '8', '8', '2', '2', '9', '1', '9', '8',\n",
       "       '2', '1', '9', '5', '7', '3', '4', '1', '9', '2', '3', '6', '0',\n",
       "       '6', '2', '4', '7', '6', '3', '5', '4', '2', '1', '0', '1', '8',\n",
       "       '5', '8', '6', '2', '9', '4', '7', '4', '3', '3', '0', '6', '2',\n",
       "       '5', '8', '5', '3', '3', '7', '4', '7', '9', '7', '3', '2', '1',\n",
       "       '7', '4', '4', '2', '5', '3', '1', '4', '4', '4', '3', '7', '3',\n",
       "       '8', '3', '1', '9', '1', '2', '1', '0', '4', '0', '8', '3', '3',\n",
       "       '1', '5', '1', '3', '0', '9', '1', '3', '3', '1'], dtype='<U1')"
      ]
     },
     "execution_count": 20,
     "metadata": {},
     "output_type": "execute_result"
    }
   ],
   "source": [
    "y_predict"
   ]
  },
  {
   "cell_type": "code",
   "execution_count": null,
   "metadata": {},
   "outputs": [],
   "source": []
  }
 ],
 "metadata": {
  "kernelspec": {
   "display_name": "Python 3",
   "language": "python",
   "name": "python3"
  },
  "language_info": {
   "codemirror_mode": {
    "name": "ipython",
    "version": 3
   },
   "file_extension": ".py",
   "mimetype": "text/x-python",
   "name": "python",
   "nbconvert_exporter": "python",
   "pygments_lexer": "ipython3",
   "version": "3.7.3"
  },
  "toc": {
   "base_numbering": 1,
   "nav_menu": {},
   "number_sections": true,
   "sideBar": true,
   "skip_h1_title": false,
   "title_cell": "Table of Contents",
   "title_sidebar": "Contents",
   "toc_cell": false,
   "toc_position": {
    "height": "calc(100% - 180px)",
    "left": "10px",
    "top": "150px",
    "width": "256px"
   },
   "toc_section_display": true,
   "toc_window_display": true
  }
 },
 "nbformat": 4,
 "nbformat_minor": 2
}
