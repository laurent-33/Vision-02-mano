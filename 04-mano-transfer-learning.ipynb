{
 "cells": [
  {
   "cell_type": "markdown",
   "metadata": {},
   "source": [
    "# Récupération des données"
   ]
  },
  {
   "cell_type": "code",
   "execution_count": 1,
   "metadata": {},
   "outputs": [
    {
     "name": "stderr",
     "output_type": "stream",
     "text": [
      "Using TensorFlow backend.\n"
     ]
    }
   ],
   "source": [
    "import pandas\n",
    "import matplotlib\n",
    "import matplotlib.pyplot as plt\n",
    "import numpy\n",
    "from sklearn.model_selection import train_test_split\n",
    "from sklearn import metrics\n",
    "\n",
    "import keras\n",
    "from keras.models import Sequential\n",
    "from keras.layers import Input, Dense, Dropout, Flatten, Activation, MaxPooling2D, GlobalMaxPooling2D\n",
    "from keras.layers import Conv2D, MaxPooling2D\n",
    "from keras.callbacks import EarlyStopping\n",
    "from tensorflow.keras.optimizers import SGD, Adam, Adamax\n",
    "import tensorflow\n",
    "\n",
    "from keras.applications.nasnet import NASNetLarge, NASNetMobile\n",
    "from keras.applications.mobilenet import MobileNet\n",
    "\n",
    "%matplotlib inline\n",
    "pandas.set_option('display.width', 100)\n",
    "pandas.set_option('precision', 3)\n",
    "\n",
    "tensorflow.random.set_seed(15)\n",
    "numpy.random.seed(15)"
   ]
  },
  {
   "cell_type": "code",
   "execution_count": 2,
   "metadata": {},
   "outputs": [],
   "source": [
    "Y_train = numpy.load('Y_train.npy')"
   ]
  },
  {
   "cell_type": "code",
   "execution_count": 3,
   "metadata": {},
   "outputs": [],
   "source": [
    "X_train = numpy.load('X_train.npy')"
   ]
  },
  {
   "cell_type": "markdown",
   "metadata": {},
   "source": [
    "## Train / Val Split"
   ]
  },
  {
   "cell_type": "code",
   "execution_count": 4,
   "metadata": {},
   "outputs": [],
   "source": [
    "X_train, x_val, Y_train, y_val = train_test_split(X_train, Y_train, test_size=0.2, random_state=15)"
   ]
  },
  {
   "cell_type": "code",
   "execution_count": 5,
   "metadata": {},
   "outputs": [
    {
     "name": "stdout",
     "output_type": "stream",
     "text": [
      "(1649, 64, 64)\n",
      "(1649, 10)\n",
      "(413, 64, 64)\n",
      "(413, 10)\n"
     ]
    }
   ],
   "source": [
    "print(X_train.shape)\n",
    "print(Y_train.shape)\n",
    "print(x_val.shape)\n",
    "print(y_val.shape)"
   ]
  },
  {
   "cell_type": "markdown",
   "metadata": {},
   "source": [
    "## Remise en forme des données"
   ]
  },
  {
   "cell_type": "code",
   "execution_count": 6,
   "metadata": {},
   "outputs": [
    {
     "name": "stdout",
     "output_type": "stream",
     "text": [
      "(1649, 64, 64)\n",
      "(1649, 10)\n"
     ]
    }
   ],
   "source": [
    "print(X_train.shape)\n",
    "print(Y_train.shape)"
   ]
  },
  {
   "cell_type": "code",
   "execution_count": 7,
   "metadata": {},
   "outputs": [
    {
     "data": {
      "text/plain": [
       "(1649, 4096)"
      ]
     },
     "execution_count": 7,
     "metadata": {},
     "output_type": "execute_result"
    }
   ],
   "source": [
    "X_train_flat = X_train.reshape(X_train.shape[0], X_train.shape[1]*X_train.shape[2])\n",
    "x_val_flat = x_val.reshape(x_val.shape[0], x_val.shape[1]*x_val.shape[2])\n",
    "X_train_flat.shape"
   ]
  },
  {
   "cell_type": "code",
   "execution_count": 8,
   "metadata": {
    "scrolled": true
   },
   "outputs": [
    {
     "data": {
      "text/plain": [
       "array([[0., 0., 0., 0., 0., 1., 0., 0., 0., 0.],\n",
       "       [0., 0., 0., 0., 0., 0., 0., 1., 0., 0.],\n",
       "       [0., 0., 0., 0., 0., 1., 0., 0., 0., 0.],\n",
       "       [1., 0., 0., 0., 0., 0., 0., 0., 0., 0.],\n",
       "       [1., 0., 0., 0., 0., 0., 0., 0., 0., 0.]])"
      ]
     },
     "execution_count": 8,
     "metadata": {},
     "output_type": "execute_result"
    }
   ],
   "source": [
    "Y_train[:5]"
   ]
  },
  {
   "cell_type": "code",
   "execution_count": 9,
   "metadata": {},
   "outputs": [
    {
     "name": "stdout",
     "output_type": "stream",
     "text": [
      "input nmuber =  4096\n",
      "output_number =  10\n"
     ]
    }
   ],
   "source": [
    "input_number = X_train_flat.shape[1]\n",
    "output_number = 10\n",
    "print('input nmuber = ', input_number)\n",
    "print('output_number = ', output_number)"
   ]
  },
  {
   "cell_type": "code",
   "execution_count": 10,
   "metadata": {},
   "outputs": [
    {
     "data": {
      "text/plain": [
       "(1649, 64, 64, 1)"
      ]
     },
     "execution_count": 10,
     "metadata": {},
     "output_type": "execute_result"
    }
   ],
   "source": [
    "X_train = numpy.expand_dims(X_train, axis=X_train.ndim)\n",
    "x_val = numpy.expand_dims(x_val, axis=x_val.ndim)\n",
    "X_train.shape"
   ]
  },
  {
   "cell_type": "code",
   "execution_count": 11,
   "metadata": {},
   "outputs": [
    {
     "data": {
      "text/plain": [
       "(1649, 64, 64, 3)"
      ]
     },
     "execution_count": 11,
     "metadata": {},
     "output_type": "execute_result"
    }
   ],
   "source": [
    "X_train_vide = numpy.empty([X_train.shape[0], X_train.shape[1], X_train.shape[2], 3])\n",
    "X_train_vide[..., :] = X_train[..., :]\n",
    "X_train = X_train_vide\n",
    "\n",
    "x_val_vide = numpy.empty([x_val.shape[0], x_val.shape[1], x_val.shape[2], 3])\n",
    "x_val_vide[..., :] = x_val[..., :]\n",
    "x_val = x_val_vide\n",
    "\n",
    "X_train.shape"
   ]
  },
  {
   "cell_type": "code",
   "execution_count": 12,
   "metadata": {},
   "outputs": [
    {
     "data": {
      "image/png": "[encoded data removed]",
      "text/plain": [
       "<Figure size 432x288 with 1 Axes>"
      ]
     },
     "metadata": {},
     "output_type": "display_data"
    }
   ],
   "source": [
    "plt.imshow(X_train[10]);\n",
    "plt.xticks([]), plt.yticks([]);"
   ]
  },
  {
   "cell_type": "markdown",
   "metadata": {},
   "source": [
    "# Modèle nasnet (modèle pré-entraîné)"
   ]
  },
  {
   "cell_type": "code",
   "execution_count": null,
   "metadata": {
    "scrolled": true
   },
   "outputs": [
    {
     "name": "stderr",
     "output_type": "stream",
     "text": [
      "/opt/conda/lib/python3.7/site-packages/keras_applications/mobilenet.py:207: UserWarning: `input_shape` is undefined or non-square, or `rows` is not in [128, 160, 192, 224]. Weights for input shape (224, 224) will be loaded as the default.\n",
      "  warnings.warn('`input_shape` is undefined or non-square, '\n"
     ]
    },
    {
     "name": "stdout",
     "output_type": "stream",
     "text": [
      "Train on 1000 samples, validate on 100 samples\n",
      "Epoch 1/1000\n",
      "1000/1000 [==============================] - 2s 2ms/step - loss: 5.1696 - accuracy: 0.1000 - val_loss: 156.8092 - val_accuracy: 0.1600\n",
      "Epoch 2/1000\n",
      "1000/1000 [==============================] - 2s 2ms/step - loss: 133.4541 - accuracy: 0.2540 - val_loss: 353.8575 - val_accuracy: 0.1000\n",
      "Epoch 3/1000\n",
      "1000/1000 [==============================] - 2s 2ms/step - loss: 300.3527 - accuracy: 0.1000 - val_loss: 524.3618 - val_accuracy: 0.0500\n",
      "Epoch 4/1000\n",
      "1000/1000 [==============================] - 2s 2ms/step - loss: 445.6863 - accuracy: 0.1140 - val_loss: 616.0525 - val_accuracy: 0.1000\n",
      "Epoch 5/1000\n",
      "1000/1000 [==============================] - 2s 2ms/step - loss: 548.2649 - accuracy: 0.0960 - val_loss: 702.8025 - val_accuracy: 0.0800\n"
     ]
    }
   ],
   "source": [
    "pretrained_model = MobileNet(include_top=False, input_shape=(64, 64, 3), weights='imagenet')\n",
    "for layer in pretrained_model.layers:\n",
    "    layer.trainable = False  \n",
    "\n",
    "model = Sequential()\n",
    "\n",
    "for i in range(41):\n",
    "    model.add(pretrained_model.layers[i])\n",
    "\n",
    "# model.add(MaxPooling2D(2, 2))\n",
    "model.add(Flatten())\n",
    "model.add(Dense(10, activation='softmax'))\n",
    "\n",
    "callbacks = [EarlyStopping(monitor='val_accuracy', patience=10)]\n",
    "\n",
    "loss = 'categorical_crossentropy'\n",
    "LEARNING_RATE = 0.07\n",
    "EPOCHS = 1000\n",
    "\n",
    "model.compile(loss=loss,\n",
    "               optimizer=Adamax(lr=LEARNING_RATE), # SGD(lr=LEARNING_RATE)\n",
    "               metrics=['accuracy'])\n",
    "\n",
    "history = model.fit(X_train[:1000],\n",
    "                     Y_train[:1000],\n",
    "                     epochs=EPOCHS,\n",
    "                     validation_data=(x_val[:100], y_val[:100]),\n",
    "                     batch_size=X_train.shape[0],\n",
    "                     callbacks=callbacks)"
   ]
  },
  {
   "cell_type": "code",
   "execution_count": null,
   "metadata": {
    "scrolled": true
   },
   "outputs": [],
   "source": [
    "model.summary()"
   ]
  },
  {
   "cell_type": "code",
   "execution_count": null,
   "metadata": {},
   "outputs": [],
   "source": [
    "import pandas as pd\n",
    "%matplotlib inline\n",
    "pd.DataFrame(history.history).plot(figsize=(8, 5))\n",
    "plt.grid(True)\n",
    "plt.title('Model performance throughout training')\n",
    "plt.ylabel('Loss')\n",
    "plt.xlabel('epoch')\n",
    "plt.ylim(bottom = 0, top = 1);\n",
    "#plt.ylim(bottom = history.history['loss'][-1], top = history.history['loss'][5]);"
   ]
  },
  {
   "cell_type": "code",
   "execution_count": null,
   "metadata": {
    "scrolled": true
   },
   "outputs": [],
   "source": [
    "score = model.evaluate(x_val, y_val, verbose=0)\n",
    "score"
   ]
  },
  {
   "cell_type": "code",
   "execution_count": null,
   "metadata": {},
   "outputs": [],
   "source": [
    "y_predict = model.predict(x_val)"
   ]
  },
  {
   "cell_type": "code",
   "execution_count": null,
   "metadata": {
    "scrolled": true
   },
   "outputs": [],
   "source": [
    "y_predict[0]"
   ]
  },
  {
   "cell_type": "code",
   "execution_count": null,
   "metadata": {},
   "outputs": [],
   "source": [
    "y_predict = pandas.DataFrame(y_predict)\n",
    "y_predict.columns = ['0','1','2','3','4','5','6','7','8','9']\n",
    "y_predict.head()"
   ]
  },
  {
   "cell_type": "code",
   "execution_count": null,
   "metadata": {},
   "outputs": [],
   "source": [
    "for i in range(0, 10):\n",
    "    y_predict.loc[y_predict[str(i)] == y_predict.agg(func=max, axis=1), str(i)] = 1\n",
    "    y_predict.loc[y_predict[str(i)] < 1, str(i)] = 0\n",
    "\n",
    "y_predict.head()"
   ]
  },
  {
   "cell_type": "code",
   "execution_count": null,
   "metadata": {
    "scrolled": true
   },
   "outputs": [],
   "source": [
    "y_val_mod = pandas.DataFrame(y_val)\n",
    "y_val_mod.columns = ['0','1','2','3','4','5','6','7','8','9']\n",
    "y_val_mod.head()"
   ]
  },
  {
   "cell_type": "code",
   "execution_count": null,
   "metadata": {},
   "outputs": [],
   "source": [
    "y_val_mod = numpy.array(y_val)\n",
    "y_predict = numpy.array(y_predict)"
   ]
  },
  {
   "cell_type": "code",
   "execution_count": null,
   "metadata": {},
   "outputs": [],
   "source": [
    "def Y_transform(Y_train):\n",
    "    Y_output = []\n",
    "    for line in range(len(Y_train)):\n",
    "        for col in range(10):\n",
    "            value = str(int(Y_train[line][col]))\n",
    "            if value == '1':\n",
    "                Y_output += [str(col)]\n",
    "\n",
    "    return Y_output"
   ]
  },
  {
   "cell_type": "code",
   "execution_count": null,
   "metadata": {},
   "outputs": [],
   "source": [
    "y_val_flat = Y_transform(y_val_mod)\n",
    "y_predict_flat = Y_transform(y_predict)"
   ]
  },
  {
   "cell_type": "code",
   "execution_count": null,
   "metadata": {},
   "outputs": [],
   "source": [
    "conf_matrix = metrics.confusion_matrix(y_predict_flat, y_val_flat)\n",
    "print(conf_matrix)\n",
    "plt.imshow(conf_matrix, cmap='binary');"
   ]
  },
  {
   "cell_type": "code",
   "execution_count": null,
   "metadata": {},
   "outputs": [],
   "source": []
  },
  {
   "cell_type": "code",
   "execution_count": null,
   "metadata": {},
   "outputs": [],
   "source": []
  },
  {
   "cell_type": "code",
   "execution_count": null,
   "metadata": {},
   "outputs": [],
   "source": []
  },
  {
   "cell_type": "code",
   "execution_count": null,
   "metadata": {},
   "outputs": [],
   "source": []
  }
 ],
 "metadata": {
  "kernelspec": {
   "display_name": "Python 3",
   "language": "python",
   "name": "python3"
  },
  "language_info": {
   "codemirror_mode": {
    "name": "ipython",
    "version": 3
   },
   "file_extension": ".py",
   "mimetype": "text/x-python",
   "name": "python",
   "nbconvert_exporter": "python",
   "pygments_lexer": "ipython3",
   "version": "3.7.3"
  },
  "toc": {
   "base_numbering": 1,
   "nav_menu": {},
   "number_sections": true,
   "sideBar": true,
   "skip_h1_title": false,
   "title_cell": "Table of Contents",
   "title_sidebar": "Contents",
   "toc_cell": false,
   "toc_position": {
    "height": "calc(100% - 180px)",
    "left": "10px",
    "top": "150px",
    "width": "256px"
   },
   "toc_section_display": true,
   "toc_window_display": true
  }
 },
 "nbformat": 4,
 "nbformat_minor": 2
}
